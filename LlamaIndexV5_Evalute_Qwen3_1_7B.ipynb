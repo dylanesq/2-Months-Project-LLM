{
  "cells": [
    {
      "cell_type": "markdown",
      "metadata": {
        "id": "view-in-github",
        "colab_type": "text"
      },
      "source": [
        "<a href=\"https://colab.research.google.com/github/dylanesq/2-Months-Project-LLM/blob/main/LlamaIndexV5_Evalute_Qwen3_1_7B.ipynb\" target=\"_parent\"><img src=\"https://colab.research.google.com/assets/colab-badge.svg\" alt=\"Open In Colab\"/></a>"
      ]
    },
    {
      "cell_type": "code",
      "execution_count": 2,
      "metadata": {
        "colab": {
          "base_uri": "https://localhost:8080/"
        },
        "collapsed": true,
        "id": "0ZxuBFml2bNQ",
        "outputId": "61ca8aea-ad1e-45aa-e75b-1642e05f6c9b"
      },
      "outputs": [
        {
          "output_type": "stream",
          "name": "stdout",
          "text": [
            "Requirement already satisfied: llama-index in /usr/local/lib/python3.11/dist-packages (0.12.48)\n",
            "Requirement already satisfied: llama-index-agent-openai<0.5,>=0.4.0 in /usr/local/lib/python3.11/dist-packages (from llama-index) (0.4.12)\n",
            "Requirement already satisfied: llama-index-cli<0.5,>=0.4.2 in /usr/local/lib/python3.11/dist-packages (from llama-index) (0.4.4)\n",
            "Requirement already satisfied: llama-index-core<0.13,>=0.12.48 in /usr/local/lib/python3.11/dist-packages (from llama-index) (0.12.48)\n",
            "Requirement already satisfied: llama-index-embeddings-openai<0.4,>=0.3.0 in /usr/local/lib/python3.11/dist-packages (from llama-index) (0.3.1)\n",
            "Requirement already satisfied: llama-index-indices-managed-llama-cloud>=0.4.0 in /usr/local/lib/python3.11/dist-packages (from llama-index) (0.7.10)\n",
            "Requirement already satisfied: llama-index-llms-openai<0.5,>=0.4.0 in /usr/local/lib/python3.11/dist-packages (from llama-index) (0.4.7)\n",
            "Requirement already satisfied: llama-index-multi-modal-llms-openai<0.6,>=0.5.0 in /usr/local/lib/python3.11/dist-packages (from llama-index) (0.5.3)\n",
            "Requirement already satisfied: llama-index-program-openai<0.4,>=0.3.0 in /usr/local/lib/python3.11/dist-packages (from llama-index) (0.3.2)\n",
            "Requirement already satisfied: llama-index-question-gen-openai<0.4,>=0.3.0 in /usr/local/lib/python3.11/dist-packages (from llama-index) (0.3.1)\n",
            "Requirement already satisfied: llama-index-readers-file<0.5,>=0.4.0 in /usr/local/lib/python3.11/dist-packages (from llama-index) (0.4.11)\n",
            "Requirement already satisfied: llama-index-readers-llama-parse>=0.4.0 in /usr/local/lib/python3.11/dist-packages (from llama-index) (0.4.0)\n",
            "Requirement already satisfied: nltk>3.8.1 in /usr/local/lib/python3.11/dist-packages (from llama-index) (3.9.1)\n",
            "Requirement already satisfied: openai>=1.14.0 in /usr/local/lib/python3.11/dist-packages (from llama-index-agent-openai<0.5,>=0.4.0->llama-index) (1.93.0)\n",
            "Requirement already satisfied: aiohttp<4,>=3.8.6 in /usr/local/lib/python3.11/dist-packages (from llama-index-core<0.13,>=0.12.48->llama-index) (3.11.15)\n",
            "Requirement already satisfied: aiosqlite in /usr/local/lib/python3.11/dist-packages (from llama-index-core<0.13,>=0.12.48->llama-index) (0.21.0)\n",
            "Requirement already satisfied: banks<3,>=2.0.0 in /usr/local/lib/python3.11/dist-packages (from llama-index-core<0.13,>=0.12.48->llama-index) (2.1.3)\n",
            "Requirement already satisfied: dataclasses-json in /usr/local/lib/python3.11/dist-packages (from llama-index-core<0.13,>=0.12.48->llama-index) (0.6.7)\n",
            "Requirement already satisfied: deprecated>=1.2.9.3 in /usr/local/lib/python3.11/dist-packages (from llama-index-core<0.13,>=0.12.48->llama-index) (1.2.18)\n",
            "Requirement already satisfied: dirtyjson<2,>=1.0.8 in /usr/local/lib/python3.11/dist-packages (from llama-index-core<0.13,>=0.12.48->llama-index) (1.0.8)\n",
            "Requirement already satisfied: filetype<2,>=1.2.0 in /usr/local/lib/python3.11/dist-packages (from llama-index-core<0.13,>=0.12.48->llama-index) (1.2.0)\n",
            "Requirement already satisfied: fsspec>=2023.5.0 in /usr/local/lib/python3.11/dist-packages (from llama-index-core<0.13,>=0.12.48->llama-index) (2025.3.2)\n",
            "Requirement already satisfied: httpx in /usr/local/lib/python3.11/dist-packages (from llama-index-core<0.13,>=0.12.48->llama-index) (0.28.1)\n",
            "Requirement already satisfied: llama-index-workflows<2,>=1.0.1 in /usr/local/lib/python3.11/dist-packages (from llama-index-core<0.13,>=0.12.48->llama-index) (1.1.0)\n",
            "Requirement already satisfied: nest-asyncio<2,>=1.5.8 in /usr/local/lib/python3.11/dist-packages (from llama-index-core<0.13,>=0.12.48->llama-index) (1.6.0)\n",
            "Requirement already satisfied: networkx>=3.0 in /usr/local/lib/python3.11/dist-packages (from llama-index-core<0.13,>=0.12.48->llama-index) (3.5)\n",
            "Requirement already satisfied: numpy in /usr/local/lib/python3.11/dist-packages (from llama-index-core<0.13,>=0.12.48->llama-index) (2.0.2)\n",
            "Requirement already satisfied: pillow>=9.0.0 in /usr/local/lib/python3.11/dist-packages (from llama-index-core<0.13,>=0.12.48->llama-index) (11.2.1)\n",
            "Requirement already satisfied: pydantic>=2.8.0 in /usr/local/lib/python3.11/dist-packages (from llama-index-core<0.13,>=0.12.48->llama-index) (2.11.7)\n",
            "Requirement already satisfied: pyyaml>=6.0.1 in /usr/local/lib/python3.11/dist-packages (from llama-index-core<0.13,>=0.12.48->llama-index) (6.0.2)\n",
            "Requirement already satisfied: requests>=2.31.0 in /usr/local/lib/python3.11/dist-packages (from llama-index-core<0.13,>=0.12.48->llama-index) (2.32.3)\n",
            "Requirement already satisfied: setuptools>=80.9.0 in /usr/local/lib/python3.11/dist-packages (from llama-index-core<0.13,>=0.12.48->llama-index) (80.9.0)\n",
            "Requirement already satisfied: sqlalchemy>=1.4.49 in /usr/local/lib/python3.11/dist-packages (from sqlalchemy[asyncio]>=1.4.49->llama-index-core<0.13,>=0.12.48->llama-index) (2.0.41)\n",
            "Requirement already satisfied: tenacity!=8.4.0,<10.0.0,>=8.2.0 in /usr/local/lib/python3.11/dist-packages (from llama-index-core<0.13,>=0.12.48->llama-index) (8.5.0)\n",
            "Requirement already satisfied: tiktoken>=0.7.0 in /usr/local/lib/python3.11/dist-packages (from llama-index-core<0.13,>=0.12.48->llama-index) (0.9.0)\n",
            "Requirement already satisfied: tqdm<5,>=4.66.1 in /usr/local/lib/python3.11/dist-packages (from llama-index-core<0.13,>=0.12.48->llama-index) (4.67.1)\n",
            "Requirement already satisfied: typing-extensions>=4.5.0 in /usr/local/lib/python3.11/dist-packages (from llama-index-core<0.13,>=0.12.48->llama-index) (4.14.1)\n",
            "Requirement already satisfied: typing-inspect>=0.8.0 in /usr/local/lib/python3.11/dist-packages (from llama-index-core<0.13,>=0.12.48->llama-index) (0.9.0)\n",
            "Requirement already satisfied: wrapt in /usr/local/lib/python3.11/dist-packages (from llama-index-core<0.13,>=0.12.48->llama-index) (1.17.2)\n",
            "Requirement already satisfied: llama-cloud==0.1.32 in /usr/local/lib/python3.11/dist-packages (from llama-index-indices-managed-llama-cloud>=0.4.0->llama-index) (0.1.32)\n",
            "Requirement already satisfied: certifi>=2024.7.4 in /usr/local/lib/python3.11/dist-packages (from llama-cloud==0.1.32->llama-index-indices-managed-llama-cloud>=0.4.0->llama-index) (2025.6.15)\n",
            "Requirement already satisfied: beautifulsoup4<5,>=4.12.3 in /usr/local/lib/python3.11/dist-packages (from llama-index-readers-file<0.5,>=0.4.0->llama-index) (4.13.4)\n",
            "Requirement already satisfied: defusedxml>=0.7.1 in /usr/local/lib/python3.11/dist-packages (from llama-index-readers-file<0.5,>=0.4.0->llama-index) (0.7.1)\n",
            "Requirement already satisfied: pandas<2.3.0 in /usr/local/lib/python3.11/dist-packages (from llama-index-readers-file<0.5,>=0.4.0->llama-index) (2.2.2)\n",
            "Requirement already satisfied: pypdf<6,>=5.1.0 in /usr/local/lib/python3.11/dist-packages (from llama-index-readers-file<0.5,>=0.4.0->llama-index) (5.7.0)\n",
            "Requirement already satisfied: striprtf<0.0.27,>=0.0.26 in /usr/local/lib/python3.11/dist-packages (from llama-index-readers-file<0.5,>=0.4.0->llama-index) (0.0.26)\n",
            "Requirement already satisfied: llama-parse>=0.5.0 in /usr/local/lib/python3.11/dist-packages (from llama-index-readers-llama-parse>=0.4.0->llama-index) (0.6.43)\n",
            "Requirement already satisfied: click in /usr/local/lib/python3.11/dist-packages (from nltk>3.8.1->llama-index) (8.2.1)\n",
            "Requirement already satisfied: joblib in /usr/local/lib/python3.11/dist-packages (from nltk>3.8.1->llama-index) (1.5.1)\n",
            "Requirement already satisfied: regex>=2021.8.3 in /usr/local/lib/python3.11/dist-packages (from nltk>3.8.1->llama-index) (2024.11.6)\n",
            "Requirement already satisfied: aiohappyeyeballs>=2.3.0 in /usr/local/lib/python3.11/dist-packages (from aiohttp<4,>=3.8.6->llama-index-core<0.13,>=0.12.48->llama-index) (2.6.1)\n",
            "Requirement already satisfied: aiosignal>=1.1.2 in /usr/local/lib/python3.11/dist-packages (from aiohttp<4,>=3.8.6->llama-index-core<0.13,>=0.12.48->llama-index) (1.4.0)\n",
            "Requirement already satisfied: attrs>=17.3.0 in /usr/local/lib/python3.11/dist-packages (from aiohttp<4,>=3.8.6->llama-index-core<0.13,>=0.12.48->llama-index) (25.3.0)\n",
            "Requirement already satisfied: frozenlist>=1.1.1 in /usr/local/lib/python3.11/dist-packages (from aiohttp<4,>=3.8.6->llama-index-core<0.13,>=0.12.48->llama-index) (1.7.0)\n",
            "Requirement already satisfied: multidict<7.0,>=4.5 in /usr/local/lib/python3.11/dist-packages (from aiohttp<4,>=3.8.6->llama-index-core<0.13,>=0.12.48->llama-index) (6.6.3)\n",
            "Requirement already satisfied: propcache>=0.2.0 in /usr/local/lib/python3.11/dist-packages (from aiohttp<4,>=3.8.6->llama-index-core<0.13,>=0.12.48->llama-index) (0.3.2)\n",
            "Requirement already satisfied: yarl<2.0,>=1.17.0 in /usr/local/lib/python3.11/dist-packages (from aiohttp<4,>=3.8.6->llama-index-core<0.13,>=0.12.48->llama-index) (1.20.1)\n",
            "Requirement already satisfied: griffe in /usr/local/lib/python3.11/dist-packages (from banks<3,>=2.0.0->llama-index-core<0.13,>=0.12.48->llama-index) (1.7.3)\n",
            "Requirement already satisfied: jinja2 in /usr/local/lib/python3.11/dist-packages (from banks<3,>=2.0.0->llama-index-core<0.13,>=0.12.48->llama-index) (3.1.6)\n",
            "Requirement already satisfied: platformdirs in /usr/local/lib/python3.11/dist-packages (from banks<3,>=2.0.0->llama-index-core<0.13,>=0.12.48->llama-index) (4.3.8)\n",
            "Requirement already satisfied: soupsieve>1.2 in /usr/local/lib/python3.11/dist-packages (from beautifulsoup4<5,>=4.12.3->llama-index-readers-file<0.5,>=0.4.0->llama-index) (2.7)\n",
            "Requirement already satisfied: anyio in /usr/local/lib/python3.11/dist-packages (from httpx->llama-index-core<0.13,>=0.12.48->llama-index) (4.9.0)\n",
            "Requirement already satisfied: httpcore==1.* in /usr/local/lib/python3.11/dist-packages (from httpx->llama-index-core<0.13,>=0.12.48->llama-index) (1.0.9)\n",
            "Requirement already satisfied: idna in /usr/local/lib/python3.11/dist-packages (from httpx->llama-index-core<0.13,>=0.12.48->llama-index) (3.10)\n",
            "Requirement already satisfied: h11>=0.16 in /usr/local/lib/python3.11/dist-packages (from httpcore==1.*->httpx->llama-index-core<0.13,>=0.12.48->llama-index) (0.16.0)\n",
            "Requirement already satisfied: llama-index-instrumentation>=0.1.0 in /usr/local/lib/python3.11/dist-packages (from llama-index-workflows<2,>=1.0.1->llama-index-core<0.13,>=0.12.48->llama-index) (0.2.0)\n",
            "Requirement already satisfied: llama-cloud-services>=0.6.43 in /usr/local/lib/python3.11/dist-packages (from llama-parse>=0.5.0->llama-index-readers-llama-parse>=0.4.0->llama-index) (0.6.43)\n",
            "Requirement already satisfied: distro<2,>=1.7.0 in /usr/local/lib/python3.11/dist-packages (from openai>=1.14.0->llama-index-agent-openai<0.5,>=0.4.0->llama-index) (1.9.0)\n",
            "Requirement already satisfied: jiter<1,>=0.4.0 in /usr/local/lib/python3.11/dist-packages (from openai>=1.14.0->llama-index-agent-openai<0.5,>=0.4.0->llama-index) (0.10.0)\n",
            "Requirement already satisfied: sniffio in /usr/local/lib/python3.11/dist-packages (from openai>=1.14.0->llama-index-agent-openai<0.5,>=0.4.0->llama-index) (1.3.1)\n",
            "Requirement already satisfied: python-dateutil>=2.8.2 in /usr/local/lib/python3.11/dist-packages (from pandas<2.3.0->llama-index-readers-file<0.5,>=0.4.0->llama-index) (2.9.0.post0)\n",
            "Requirement already satisfied: pytz>=2020.1 in /usr/local/lib/python3.11/dist-packages (from pandas<2.3.0->llama-index-readers-file<0.5,>=0.4.0->llama-index) (2025.2)\n",
            "Requirement already satisfied: tzdata>=2022.7 in /usr/local/lib/python3.11/dist-packages (from pandas<2.3.0->llama-index-readers-file<0.5,>=0.4.0->llama-index) (2025.2)\n",
            "Requirement already satisfied: annotated-types>=0.6.0 in /usr/local/lib/python3.11/dist-packages (from pydantic>=2.8.0->llama-index-core<0.13,>=0.12.48->llama-index) (0.7.0)\n",
            "Requirement already satisfied: pydantic-core==2.33.2 in /usr/local/lib/python3.11/dist-packages (from pydantic>=2.8.0->llama-index-core<0.13,>=0.12.48->llama-index) (2.33.2)\n",
            "Requirement already satisfied: typing-inspection>=0.4.0 in /usr/local/lib/python3.11/dist-packages (from pydantic>=2.8.0->llama-index-core<0.13,>=0.12.48->llama-index) (0.4.1)\n",
            "Requirement already satisfied: charset-normalizer<4,>=2 in /usr/local/lib/python3.11/dist-packages (from requests>=2.31.0->llama-index-core<0.13,>=0.12.48->llama-index) (3.4.2)\n",
            "Requirement already satisfied: urllib3<3,>=1.21.1 in /usr/local/lib/python3.11/dist-packages (from requests>=2.31.0->llama-index-core<0.13,>=0.12.48->llama-index) (2.4.0)\n",
            "Requirement already satisfied: greenlet>=1 in /usr/local/lib/python3.11/dist-packages (from sqlalchemy>=1.4.49->sqlalchemy[asyncio]>=1.4.49->llama-index-core<0.13,>=0.12.48->llama-index) (3.2.3)\n",
            "Requirement already satisfied: mypy-extensions>=0.3.0 in /usr/local/lib/python3.11/dist-packages (from typing-inspect>=0.8.0->llama-index-core<0.13,>=0.12.48->llama-index) (1.1.0)\n",
            "Requirement already satisfied: marshmallow<4.0.0,>=3.18.0 in /usr/local/lib/python3.11/dist-packages (from dataclasses-json->llama-index-core<0.13,>=0.12.48->llama-index) (3.26.1)\n",
            "Requirement already satisfied: python-dotenv<2.0.0,>=1.0.1 in /usr/local/lib/python3.11/dist-packages (from llama-cloud-services>=0.6.43->llama-parse>=0.5.0->llama-index-readers-llama-parse>=0.4.0->llama-index) (1.1.1)\n",
            "Requirement already satisfied: packaging>=17.0 in /usr/local/lib/python3.11/dist-packages (from marshmallow<4.0.0,>=3.18.0->dataclasses-json->llama-index-core<0.13,>=0.12.48->llama-index) (24.2)\n",
            "Requirement already satisfied: six>=1.5 in /usr/local/lib/python3.11/dist-packages (from python-dateutil>=2.8.2->pandas<2.3.0->llama-index-readers-file<0.5,>=0.4.0->llama-index) (1.17.0)\n",
            "Requirement already satisfied: colorama>=0.4 in /usr/local/lib/python3.11/dist-packages (from griffe->banks<3,>=2.0.0->llama-index-core<0.13,>=0.12.48->llama-index) (0.4.6)\n",
            "Requirement already satisfied: MarkupSafe>=2.0 in /usr/local/lib/python3.11/dist-packages (from jinja2->banks<3,>=2.0.0->llama-index-core<0.13,>=0.12.48->llama-index) (3.0.2)\n"
          ]
        }
      ],
      "source": [
        "pip install llama-index"
      ]
    },
    {
      "cell_type": "markdown",
      "metadata": {
        "id": "xTwNTb774SM6"
      },
      "source": [
        "#Loading\n",
        "\n",
        " **SIMPLE DIRECTORY READER**\n",
        "READING PDFS"
      ]
    },
    {
      "cell_type": "code",
      "execution_count": 3,
      "metadata": {
        "collapsed": true,
        "id": "78aCX84f3bo-"
      },
      "outputs": [],
      "source": [
        "from llama_index.core import SimpleDirectoryReader\n",
        "reader=SimpleDirectoryReader(input_dir=\"/content/\", required_exts=[\".pdf\"])\n",
        "document_1=reader.load_data()"
      ]
    },
    {
      "cell_type": "markdown",
      "metadata": {
        "id": "fMKb0x7X8N0Z"
      },
      "source": [
        "# Chunking Randomly\n",
        "[TokenTextSplitter](https://docs.llamaindex.ai/en/v0.10.17/api/llama_index.core.node_parser.TokenTextSplitter.html#tokentextsplitter)"
      ]
    },
    {
      "cell_type": "code",
      "execution_count": 4,
      "metadata": {
        "id": "PliwvuN98A7C",
        "colab": {
          "base_uri": "https://localhost:8080/",
          "height": 49,
          "referenced_widgets": [
            "7a36687b354d45169231f540dcc797fd",
            "e3de79c6581c4bafa4249eafd7203df8",
            "3e824d02194d4d90bc8deca66f64632e",
            "2a95e91e12184b78a2f20cf0492dc904",
            "c0f7b11f11484e2e9ab011bd58a2da83",
            "0cad709acbc74e238dff65261e6d01f5",
            "18d2264cb69d492f9797a924a70064b5",
            "65e20485c4914bce89d1db49613f2d81",
            "71c979fe2b7b44d1a43e4756c0922de3",
            "bf28e34ff5dc4ef5a60e5729dcf97392",
            "2cc9af32480a454e952c5efb42d17103"
          ]
        },
        "outputId": "df31f2b4-d475-4b0d-88ca-8921a6db8202"
      },
      "outputs": [
        {
          "output_type": "display_data",
          "data": {
            "text/plain": [
              "Parsing nodes:   0%|          | 0/172 [00:00<?, ?it/s]"
            ],
            "application/vnd.jupyter.widget-view+json": {
              "version_major": 2,
              "version_minor": 0,
              "model_id": "7a36687b354d45169231f540dcc797fd"
            }
          },
          "metadata": {}
        }
      ],
      "source": [
        "from llama_index.core.node_parser import TokenTextSplitter\n",
        "splitter = TokenTextSplitter(\n",
        "    chunk_size=2048,\n",
        "    chunk_overlap=200,\n",
        "    separator=\" \",\n",
        ")\n",
        "token_nodes = splitter.get_nodes_from_documents(\n",
        "    document_1, show_progress=True\n",
        ")"
      ]
    },
    {
      "cell_type": "markdown",
      "metadata": {
        "id": "OjBW1EYf3789"
      },
      "source": [
        "# LLM Setup\n",
        "*   [HuggingFaceLLM](https://docs.llamaindex.ai/en/v0.9.48/api_reference/llms/huggingface.html#huggingfacellm)\n",
        "*   [Llama 3.2 3B\n",
        "](https://huggingface.co/meta-llama/Llama-3.2-3B-Instruct)\n",
        "\n"
      ]
    },
    {
      "cell_type": "markdown",
      "metadata": {
        "id": "piw5VLQMhaPi"
      },
      "source": [
        "#LLM Init."
      ]
    },
    {
      "cell_type": "code",
      "execution_count": 5,
      "metadata": {
        "colab": {
          "base_uri": "https://localhost:8080/"
        },
        "collapsed": true,
        "id": "PGKPWDaO57iQ",
        "outputId": "f36831de-0515-4979-dbc6-5e68018b7c9c"
      },
      "outputs": [
        {
          "output_type": "stream",
          "name": "stdout",
          "text": [
            "Requirement already satisfied: llama_index.llms.huggingface in /usr/local/lib/python3.11/dist-packages (0.5.0)\n",
            "Requirement already satisfied: llama-index-core<0.13.0,>=0.12.0 in /usr/local/lib/python3.11/dist-packages (from llama_index.llms.huggingface) (0.12.48)\n",
            "Requirement already satisfied: torch<3.0.0,>=2.1.2 in /usr/local/lib/python3.11/dist-packages (from llama_index.llms.huggingface) (2.6.0+cu124)\n",
            "Requirement already satisfied: transformers<5.0.0,>=4.37.0 in /usr/local/lib/python3.11/dist-packages (from transformers[torch]<5.0.0,>=4.37.0->llama_index.llms.huggingface) (4.53.1)\n",
            "Requirement already satisfied: aiohttp<4,>=3.8.6 in /usr/local/lib/python3.11/dist-packages (from llama-index-core<0.13.0,>=0.12.0->llama_index.llms.huggingface) (3.11.15)\n",
            "Requirement already satisfied: aiosqlite in /usr/local/lib/python3.11/dist-packages (from llama-index-core<0.13.0,>=0.12.0->llama_index.llms.huggingface) (0.21.0)\n",
            "Requirement already satisfied: banks<3,>=2.0.0 in /usr/local/lib/python3.11/dist-packages (from llama-index-core<0.13.0,>=0.12.0->llama_index.llms.huggingface) (2.1.3)\n",
            "Requirement already satisfied: dataclasses-json in /usr/local/lib/python3.11/dist-packages (from llama-index-core<0.13.0,>=0.12.0->llama_index.llms.huggingface) (0.6.7)\n",
            "Requirement already satisfied: deprecated>=1.2.9.3 in /usr/local/lib/python3.11/dist-packages (from llama-index-core<0.13.0,>=0.12.0->llama_index.llms.huggingface) (1.2.18)\n",
            "Requirement already satisfied: dirtyjson<2,>=1.0.8 in /usr/local/lib/python3.11/dist-packages (from llama-index-core<0.13.0,>=0.12.0->llama_index.llms.huggingface) (1.0.8)\n",
            "Requirement already satisfied: filetype<2,>=1.2.0 in /usr/local/lib/python3.11/dist-packages (from llama-index-core<0.13.0,>=0.12.0->llama_index.llms.huggingface) (1.2.0)\n",
            "Requirement already satisfied: fsspec>=2023.5.0 in /usr/local/lib/python3.11/dist-packages (from llama-index-core<0.13.0,>=0.12.0->llama_index.llms.huggingface) (2025.3.2)\n",
            "Requirement already satisfied: httpx in /usr/local/lib/python3.11/dist-packages (from llama-index-core<0.13.0,>=0.12.0->llama_index.llms.huggingface) (0.28.1)\n",
            "Requirement already satisfied: llama-index-workflows<2,>=1.0.1 in /usr/local/lib/python3.11/dist-packages (from llama-index-core<0.13.0,>=0.12.0->llama_index.llms.huggingface) (1.1.0)\n",
            "Requirement already satisfied: nest-asyncio<2,>=1.5.8 in /usr/local/lib/python3.11/dist-packages (from llama-index-core<0.13.0,>=0.12.0->llama_index.llms.huggingface) (1.6.0)\n",
            "Requirement already satisfied: networkx>=3.0 in /usr/local/lib/python3.11/dist-packages (from llama-index-core<0.13.0,>=0.12.0->llama_index.llms.huggingface) (3.5)\n",
            "Requirement already satisfied: nltk>3.8.1 in /usr/local/lib/python3.11/dist-packages (from llama-index-core<0.13.0,>=0.12.0->llama_index.llms.huggingface) (3.9.1)\n",
            "Requirement already satisfied: numpy in /usr/local/lib/python3.11/dist-packages (from llama-index-core<0.13.0,>=0.12.0->llama_index.llms.huggingface) (2.0.2)\n",
            "Requirement already satisfied: pillow>=9.0.0 in /usr/local/lib/python3.11/dist-packages (from llama-index-core<0.13.0,>=0.12.0->llama_index.llms.huggingface) (11.2.1)\n",
            "Requirement already satisfied: pydantic>=2.8.0 in /usr/local/lib/python3.11/dist-packages (from llama-index-core<0.13.0,>=0.12.0->llama_index.llms.huggingface) (2.11.7)\n",
            "Requirement already satisfied: pyyaml>=6.0.1 in /usr/local/lib/python3.11/dist-packages (from llama-index-core<0.13.0,>=0.12.0->llama_index.llms.huggingface) (6.0.2)\n",
            "Requirement already satisfied: requests>=2.31.0 in /usr/local/lib/python3.11/dist-packages (from llama-index-core<0.13.0,>=0.12.0->llama_index.llms.huggingface) (2.32.3)\n",
            "Requirement already satisfied: setuptools>=80.9.0 in /usr/local/lib/python3.11/dist-packages (from llama-index-core<0.13.0,>=0.12.0->llama_index.llms.huggingface) (80.9.0)\n",
            "Requirement already satisfied: sqlalchemy>=1.4.49 in /usr/local/lib/python3.11/dist-packages (from sqlalchemy[asyncio]>=1.4.49->llama-index-core<0.13.0,>=0.12.0->llama_index.llms.huggingface) (2.0.41)\n",
            "Requirement already satisfied: tenacity!=8.4.0,<10.0.0,>=8.2.0 in /usr/local/lib/python3.11/dist-packages (from llama-index-core<0.13.0,>=0.12.0->llama_index.llms.huggingface) (8.5.0)\n",
            "Requirement already satisfied: tiktoken>=0.7.0 in /usr/local/lib/python3.11/dist-packages (from llama-index-core<0.13.0,>=0.12.0->llama_index.llms.huggingface) (0.9.0)\n",
            "Requirement already satisfied: tqdm<5,>=4.66.1 in /usr/local/lib/python3.11/dist-packages (from llama-index-core<0.13.0,>=0.12.0->llama_index.llms.huggingface) (4.67.1)\n",
            "Requirement already satisfied: typing-extensions>=4.5.0 in /usr/local/lib/python3.11/dist-packages (from llama-index-core<0.13.0,>=0.12.0->llama_index.llms.huggingface) (4.14.1)\n",
            "Requirement already satisfied: typing-inspect>=0.8.0 in /usr/local/lib/python3.11/dist-packages (from llama-index-core<0.13.0,>=0.12.0->llama_index.llms.huggingface) (0.9.0)\n",
            "Requirement already satisfied: wrapt in /usr/local/lib/python3.11/dist-packages (from llama-index-core<0.13.0,>=0.12.0->llama_index.llms.huggingface) (1.17.2)\n",
            "Requirement already satisfied: filelock in /usr/local/lib/python3.11/dist-packages (from torch<3.0.0,>=2.1.2->llama_index.llms.huggingface) (3.18.0)\n",
            "Requirement already satisfied: jinja2 in /usr/local/lib/python3.11/dist-packages (from torch<3.0.0,>=2.1.2->llama_index.llms.huggingface) (3.1.6)\n",
            "Requirement already satisfied: nvidia-cuda-nvrtc-cu12==12.4.127 in /usr/local/lib/python3.11/dist-packages (from torch<3.0.0,>=2.1.2->llama_index.llms.huggingface) (12.4.127)\n",
            "Requirement already satisfied: nvidia-cuda-runtime-cu12==12.4.127 in /usr/local/lib/python3.11/dist-packages (from torch<3.0.0,>=2.1.2->llama_index.llms.huggingface) (12.4.127)\n",
            "Requirement already satisfied: nvidia-cuda-cupti-cu12==12.4.127 in /usr/local/lib/python3.11/dist-packages (from torch<3.0.0,>=2.1.2->llama_index.llms.huggingface) (12.4.127)\n",
            "Requirement already satisfied: nvidia-cudnn-cu12==9.1.0.70 in /usr/local/lib/python3.11/dist-packages (from torch<3.0.0,>=2.1.2->llama_index.llms.huggingface) (9.1.0.70)\n",
            "Requirement already satisfied: nvidia-cublas-cu12==12.4.5.8 in /usr/local/lib/python3.11/dist-packages (from torch<3.0.0,>=2.1.2->llama_index.llms.huggingface) (12.4.5.8)\n",
            "Requirement already satisfied: nvidia-cufft-cu12==11.2.1.3 in /usr/local/lib/python3.11/dist-packages (from torch<3.0.0,>=2.1.2->llama_index.llms.huggingface) (11.2.1.3)\n",
            "Requirement already satisfied: nvidia-curand-cu12==10.3.5.147 in /usr/local/lib/python3.11/dist-packages (from torch<3.0.0,>=2.1.2->llama_index.llms.huggingface) (10.3.5.147)\n",
            "Requirement already satisfied: nvidia-cusolver-cu12==11.6.1.9 in /usr/local/lib/python3.11/dist-packages (from torch<3.0.0,>=2.1.2->llama_index.llms.huggingface) (11.6.1.9)\n",
            "Requirement already satisfied: nvidia-cusparse-cu12==12.3.1.170 in /usr/local/lib/python3.11/dist-packages (from torch<3.0.0,>=2.1.2->llama_index.llms.huggingface) (12.3.1.170)\n",
            "Requirement already satisfied: nvidia-cusparselt-cu12==0.6.2 in /usr/local/lib/python3.11/dist-packages (from torch<3.0.0,>=2.1.2->llama_index.llms.huggingface) (0.6.2)\n",
            "Requirement already satisfied: nvidia-nccl-cu12==2.21.5 in /usr/local/lib/python3.11/dist-packages (from torch<3.0.0,>=2.1.2->llama_index.llms.huggingface) (2.21.5)\n",
            "Requirement already satisfied: nvidia-nvtx-cu12==12.4.127 in /usr/local/lib/python3.11/dist-packages (from torch<3.0.0,>=2.1.2->llama_index.llms.huggingface) (12.4.127)\n",
            "Requirement already satisfied: nvidia-nvjitlink-cu12==12.4.127 in /usr/local/lib/python3.11/dist-packages (from torch<3.0.0,>=2.1.2->llama_index.llms.huggingface) (12.4.127)\n",
            "Requirement already satisfied: triton==3.2.0 in /usr/local/lib/python3.11/dist-packages (from torch<3.0.0,>=2.1.2->llama_index.llms.huggingface) (3.2.0)\n",
            "Requirement already satisfied: sympy==1.13.1 in /usr/local/lib/python3.11/dist-packages (from torch<3.0.0,>=2.1.2->llama_index.llms.huggingface) (1.13.1)\n",
            "Requirement already satisfied: mpmath<1.4,>=1.1.0 in /usr/local/lib/python3.11/dist-packages (from sympy==1.13.1->torch<3.0.0,>=2.1.2->llama_index.llms.huggingface) (1.3.0)\n",
            "Requirement already satisfied: huggingface-hub<1.0,>=0.30.0 in /usr/local/lib/python3.11/dist-packages (from transformers<5.0.0,>=4.37.0->transformers[torch]<5.0.0,>=4.37.0->llama_index.llms.huggingface) (0.33.2)\n",
            "Requirement already satisfied: packaging>=20.0 in /usr/local/lib/python3.11/dist-packages (from transformers<5.0.0,>=4.37.0->transformers[torch]<5.0.0,>=4.37.0->llama_index.llms.huggingface) (24.2)\n",
            "Requirement already satisfied: regex!=2019.12.17 in /usr/local/lib/python3.11/dist-packages (from transformers<5.0.0,>=4.37.0->transformers[torch]<5.0.0,>=4.37.0->llama_index.llms.huggingface) (2024.11.6)\n",
            "Requirement already satisfied: tokenizers<0.22,>=0.21 in /usr/local/lib/python3.11/dist-packages (from transformers<5.0.0,>=4.37.0->transformers[torch]<5.0.0,>=4.37.0->llama_index.llms.huggingface) (0.21.2)\n",
            "Requirement already satisfied: safetensors>=0.4.3 in /usr/local/lib/python3.11/dist-packages (from transformers<5.0.0,>=4.37.0->transformers[torch]<5.0.0,>=4.37.0->llama_index.llms.huggingface) (0.5.3)\n",
            "Requirement already satisfied: accelerate>=0.26.0 in /usr/local/lib/python3.11/dist-packages (from transformers[torch]<5.0.0,>=4.37.0->llama_index.llms.huggingface) (1.8.1)\n",
            "Requirement already satisfied: psutil in /usr/local/lib/python3.11/dist-packages (from accelerate>=0.26.0->transformers[torch]<5.0.0,>=4.37.0->llama_index.llms.huggingface) (5.9.5)\n",
            "Requirement already satisfied: aiohappyeyeballs>=2.3.0 in /usr/local/lib/python3.11/dist-packages (from aiohttp<4,>=3.8.6->llama-index-core<0.13.0,>=0.12.0->llama_index.llms.huggingface) (2.6.1)\n",
            "Requirement already satisfied: aiosignal>=1.1.2 in /usr/local/lib/python3.11/dist-packages (from aiohttp<4,>=3.8.6->llama-index-core<0.13.0,>=0.12.0->llama_index.llms.huggingface) (1.4.0)\n",
            "Requirement already satisfied: attrs>=17.3.0 in /usr/local/lib/python3.11/dist-packages (from aiohttp<4,>=3.8.6->llama-index-core<0.13.0,>=0.12.0->llama_index.llms.huggingface) (25.3.0)\n",
            "Requirement already satisfied: frozenlist>=1.1.1 in /usr/local/lib/python3.11/dist-packages (from aiohttp<4,>=3.8.6->llama-index-core<0.13.0,>=0.12.0->llama_index.llms.huggingface) (1.7.0)\n",
            "Requirement already satisfied: multidict<7.0,>=4.5 in /usr/local/lib/python3.11/dist-packages (from aiohttp<4,>=3.8.6->llama-index-core<0.13.0,>=0.12.0->llama_index.llms.huggingface) (6.6.3)\n",
            "Requirement already satisfied: propcache>=0.2.0 in /usr/local/lib/python3.11/dist-packages (from aiohttp<4,>=3.8.6->llama-index-core<0.13.0,>=0.12.0->llama_index.llms.huggingface) (0.3.2)\n",
            "Requirement already satisfied: yarl<2.0,>=1.17.0 in /usr/local/lib/python3.11/dist-packages (from aiohttp<4,>=3.8.6->llama-index-core<0.13.0,>=0.12.0->llama_index.llms.huggingface) (1.20.1)\n",
            "Requirement already satisfied: griffe in /usr/local/lib/python3.11/dist-packages (from banks<3,>=2.0.0->llama-index-core<0.13.0,>=0.12.0->llama_index.llms.huggingface) (1.7.3)\n",
            "Requirement already satisfied: platformdirs in /usr/local/lib/python3.11/dist-packages (from banks<3,>=2.0.0->llama-index-core<0.13.0,>=0.12.0->llama_index.llms.huggingface) (4.3.8)\n",
            "Requirement already satisfied: hf-xet<2.0.0,>=1.1.2 in /usr/local/lib/python3.11/dist-packages (from huggingface-hub<1.0,>=0.30.0->transformers<5.0.0,>=4.37.0->transformers[torch]<5.0.0,>=4.37.0->llama_index.llms.huggingface) (1.1.5)\n",
            "Requirement already satisfied: llama-index-instrumentation>=0.1.0 in /usr/local/lib/python3.11/dist-packages (from llama-index-workflows<2,>=1.0.1->llama-index-core<0.13.0,>=0.12.0->llama_index.llms.huggingface) (0.2.0)\n",
            "Requirement already satisfied: click in /usr/local/lib/python3.11/dist-packages (from nltk>3.8.1->llama-index-core<0.13.0,>=0.12.0->llama_index.llms.huggingface) (8.2.1)\n",
            "Requirement already satisfied: joblib in /usr/local/lib/python3.11/dist-packages (from nltk>3.8.1->llama-index-core<0.13.0,>=0.12.0->llama_index.llms.huggingface) (1.5.1)\n",
            "Requirement already satisfied: annotated-types>=0.6.0 in /usr/local/lib/python3.11/dist-packages (from pydantic>=2.8.0->llama-index-core<0.13.0,>=0.12.0->llama_index.llms.huggingface) (0.7.0)\n",
            "Requirement already satisfied: pydantic-core==2.33.2 in /usr/local/lib/python3.11/dist-packages (from pydantic>=2.8.0->llama-index-core<0.13.0,>=0.12.0->llama_index.llms.huggingface) (2.33.2)\n",
            "Requirement already satisfied: typing-inspection>=0.4.0 in /usr/local/lib/python3.11/dist-packages (from pydantic>=2.8.0->llama-index-core<0.13.0,>=0.12.0->llama_index.llms.huggingface) (0.4.1)\n",
            "Requirement already satisfied: charset-normalizer<4,>=2 in /usr/local/lib/python3.11/dist-packages (from requests>=2.31.0->llama-index-core<0.13.0,>=0.12.0->llama_index.llms.huggingface) (3.4.2)\n",
            "Requirement already satisfied: idna<4,>=2.5 in /usr/local/lib/python3.11/dist-packages (from requests>=2.31.0->llama-index-core<0.13.0,>=0.12.0->llama_index.llms.huggingface) (3.10)\n",
            "Requirement already satisfied: urllib3<3,>=1.21.1 in /usr/local/lib/python3.11/dist-packages (from requests>=2.31.0->llama-index-core<0.13.0,>=0.12.0->llama_index.llms.huggingface) (2.4.0)\n",
            "Requirement already satisfied: certifi>=2017.4.17 in /usr/local/lib/python3.11/dist-packages (from requests>=2.31.0->llama-index-core<0.13.0,>=0.12.0->llama_index.llms.huggingface) (2025.6.15)\n",
            "Requirement already satisfied: greenlet>=1 in /usr/local/lib/python3.11/dist-packages (from sqlalchemy>=1.4.49->sqlalchemy[asyncio]>=1.4.49->llama-index-core<0.13.0,>=0.12.0->llama_index.llms.huggingface) (3.2.3)\n",
            "Requirement already satisfied: mypy-extensions>=0.3.0 in /usr/local/lib/python3.11/dist-packages (from typing-inspect>=0.8.0->llama-index-core<0.13.0,>=0.12.0->llama_index.llms.huggingface) (1.1.0)\n",
            "Requirement already satisfied: marshmallow<4.0.0,>=3.18.0 in /usr/local/lib/python3.11/dist-packages (from dataclasses-json->llama-index-core<0.13.0,>=0.12.0->llama_index.llms.huggingface) (3.26.1)\n",
            "Requirement already satisfied: anyio in /usr/local/lib/python3.11/dist-packages (from httpx->llama-index-core<0.13.0,>=0.12.0->llama_index.llms.huggingface) (4.9.0)\n",
            "Requirement already satisfied: httpcore==1.* in /usr/local/lib/python3.11/dist-packages (from httpx->llama-index-core<0.13.0,>=0.12.0->llama_index.llms.huggingface) (1.0.9)\n",
            "Requirement already satisfied: h11>=0.16 in /usr/local/lib/python3.11/dist-packages (from httpcore==1.*->httpx->llama-index-core<0.13.0,>=0.12.0->llama_index.llms.huggingface) (0.16.0)\n",
            "Requirement already satisfied: MarkupSafe>=2.0 in /usr/local/lib/python3.11/dist-packages (from jinja2->torch<3.0.0,>=2.1.2->llama_index.llms.huggingface) (3.0.2)\n",
            "Requirement already satisfied: sniffio>=1.1 in /usr/local/lib/python3.11/dist-packages (from anyio->httpx->llama-index-core<0.13.0,>=0.12.0->llama_index.llms.huggingface) (1.3.1)\n",
            "Requirement already satisfied: colorama>=0.4 in /usr/local/lib/python3.11/dist-packages (from griffe->banks<3,>=2.0.0->llama-index-core<0.13.0,>=0.12.0->llama_index.llms.huggingface) (0.4.6)\n"
          ]
        }
      ],
      "source": [
        "!pip install llama_index.llms.huggingface\n",
        "from llama_index.llms.huggingface import HuggingFaceLLM"
      ]
    },
    {
      "cell_type": "markdown",
      "metadata": {
        "id": "DKHYiiM_hkl-"
      },
      "source": [
        "system prompt"
      ]
    },
    {
      "cell_type": "code",
      "execution_count": 6,
      "metadata": {
        "colab": {
          "base_uri": "https://localhost:8080/",
          "height": 173,
          "referenced_widgets": [
            "388127c2ee4f4ffc8777b59c0b7dd2a0",
            "bbdc594d8af2455996b6af4312c8f696",
            "38b179ee650a4a4389f2fc0a6493a8e8",
            "419e83df0838435da3440550e9d96012",
            "be36cb05263a47fc90ebaf823593702d",
            "efa5cbab5476430b80c1ba9cf4b977af",
            "83ae635af9a148bbb5b09cb62524c520",
            "5d803470aa2f4e849e83e9f45e4d1bb0",
            "075ffb98a386441bb18713dee5342d85",
            "3022b25c47ec4ef389b873f774bc30f8",
            "1c2074f4547e46f9928db8fa9bb9c6d8"
          ]
        },
        "collapsed": true,
        "id": "5op4HhoYBvhj",
        "outputId": "67ff21e5-7f18-4a7e-d34d-307277a1bf5c"
      },
      "outputs": [
        {
          "output_type": "stream",
          "name": "stderr",
          "text": [
            "/usr/local/lib/python3.11/dist-packages/huggingface_hub/utils/_auth.py:94: UserWarning: \n",
            "The secret `HF_TOKEN` does not exist in your Colab secrets.\n",
            "To authenticate with the Hugging Face Hub, create a token in your settings tab (https://huggingface.co/settings/tokens), set it as secret in your Google Colab and restart your session.\n",
            "You will be able to reuse this secret in all of your notebooks.\n",
            "Please note that authentication is recommended but still optional to access public models or datasets.\n",
            "  warnings.warn(\n"
          ]
        },
        {
          "output_type": "display_data",
          "data": {
            "text/plain": [
              "Loading checkpoint shards:   0%|          | 0/2 [00:00<?, ?it/s]"
            ],
            "application/vnd.jupyter.widget-view+json": {
              "version_major": 2,
              "version_minor": 0,
              "model_id": "388127c2ee4f4ffc8777b59c0b7dd2a0"
            }
          },
          "metadata": {}
        }
      ],
      "source": [
        "from transformers import AutoTokenizer, AutoModelForCausalLM\n",
        "model_id = \"Qwen/Qwen3-1.7B\"\n",
        "tokenizer = AutoTokenizer.from_pretrained(model_id)\n",
        "model = AutoModelForCausalLM.from_pretrained(model_id,torch_dtype=\"auto\",device_map=\"auto\")"
      ]
    },
    {
      "cell_type": "markdown",
      "metadata": {
        "id": "IGD2jFHA9X0f"
      },
      "source": [
        "# **Embedding & Vectorization**\n"
      ]
    },
    {
      "cell_type": "markdown",
      "metadata": {
        "id": "UgLe4LSw9kOJ"
      },
      "source": [
        "Vector Imports"
      ]
    },
    {
      "cell_type": "markdown",
      "metadata": {
        "id": "Os8pUhAx9qu3"
      },
      "source": [
        "Embedding Imports\n",
        "* [HuggingFaceEmbeddings](https://docs.llamaindex.ai/en/stable/examples/embeddings/huggingface/)  \n",
        "*   [LAngchain HF Embedding](https://python.langchain.com/api_reference/huggingface/embeddings/langchain_huggingface.embeddings.huggingface.HuggingFaceEmbeddings.html#huggingfaceembeddings)\n",
        "*   [SBERT](https://www.sbert.net/)\n",
        "*   [Llamindex embedding](https://docs.llamaindex.ai/en/stable/api_reference/embeddings/huggingface/)\n",
        "\n",
        "\n",
        "\n"
      ]
    },
    {
      "cell_type": "code",
      "execution_count": 7,
      "metadata": {
        "colab": {
          "base_uri": "https://localhost:8080/"
        },
        "collapsed": true,
        "id": "hl8zcJMXZF8l",
        "outputId": "051fa5e6-8e1b-4c09-be0c-4ea24ef56d08"
      },
      "outputs": [
        {
          "output_type": "stream",
          "name": "stdout",
          "text": [
            "Requirement already satisfied: llama_index.embeddings.huggingface in /usr/local/lib/python3.11/dist-packages (0.5.5)\n",
            "Requirement already satisfied: huggingface-hub>=0.19.0 in /usr/local/lib/python3.11/dist-packages (from huggingface-hub[inference]>=0.19.0->llama_index.embeddings.huggingface) (0.33.2)\n",
            "Requirement already satisfied: llama-index-core<0.13,>=0.12.0 in /usr/local/lib/python3.11/dist-packages (from llama_index.embeddings.huggingface) (0.12.48)\n",
            "Requirement already satisfied: sentence-transformers>=2.6.1 in /usr/local/lib/python3.11/dist-packages (from llama_index.embeddings.huggingface) (4.1.0)\n",
            "Requirement already satisfied: filelock in /usr/local/lib/python3.11/dist-packages (from huggingface-hub>=0.19.0->huggingface-hub[inference]>=0.19.0->llama_index.embeddings.huggingface) (3.18.0)\n",
            "Requirement already satisfied: fsspec>=2023.5.0 in /usr/local/lib/python3.11/dist-packages (from huggingface-hub>=0.19.0->huggingface-hub[inference]>=0.19.0->llama_index.embeddings.huggingface) (2025.3.2)\n",
            "Requirement already satisfied: packaging>=20.9 in /usr/local/lib/python3.11/dist-packages (from huggingface-hub>=0.19.0->huggingface-hub[inference]>=0.19.0->llama_index.embeddings.huggingface) (24.2)\n",
            "Requirement already satisfied: pyyaml>=5.1 in /usr/local/lib/python3.11/dist-packages (from huggingface-hub>=0.19.0->huggingface-hub[inference]>=0.19.0->llama_index.embeddings.huggingface) (6.0.2)\n",
            "Requirement already satisfied: requests in /usr/local/lib/python3.11/dist-packages (from huggingface-hub>=0.19.0->huggingface-hub[inference]>=0.19.0->llama_index.embeddings.huggingface) (2.32.3)\n",
            "Requirement already satisfied: tqdm>=4.42.1 in /usr/local/lib/python3.11/dist-packages (from huggingface-hub>=0.19.0->huggingface-hub[inference]>=0.19.0->llama_index.embeddings.huggingface) (4.67.1)\n",
            "Requirement already satisfied: typing-extensions>=3.7.4.3 in /usr/local/lib/python3.11/dist-packages (from huggingface-hub>=0.19.0->huggingface-hub[inference]>=0.19.0->llama_index.embeddings.huggingface) (4.14.1)\n",
            "Requirement already satisfied: hf-xet<2.0.0,>=1.1.2 in /usr/local/lib/python3.11/dist-packages (from huggingface-hub>=0.19.0->huggingface-hub[inference]>=0.19.0->llama_index.embeddings.huggingface) (1.1.5)\n",
            "Requirement already satisfied: aiohttp in /usr/local/lib/python3.11/dist-packages (from huggingface-hub[inference]>=0.19.0->llama_index.embeddings.huggingface) (3.11.15)\n",
            "Requirement already satisfied: aiosqlite in /usr/local/lib/python3.11/dist-packages (from llama-index-core<0.13,>=0.12.0->llama_index.embeddings.huggingface) (0.21.0)\n",
            "Requirement already satisfied: banks<3,>=2.0.0 in /usr/local/lib/python3.11/dist-packages (from llama-index-core<0.13,>=0.12.0->llama_index.embeddings.huggingface) (2.1.3)\n",
            "Requirement already satisfied: dataclasses-json in /usr/local/lib/python3.11/dist-packages (from llama-index-core<0.13,>=0.12.0->llama_index.embeddings.huggingface) (0.6.7)\n",
            "Requirement already satisfied: deprecated>=1.2.9.3 in /usr/local/lib/python3.11/dist-packages (from llama-index-core<0.13,>=0.12.0->llama_index.embeddings.huggingface) (1.2.18)\n",
            "Requirement already satisfied: dirtyjson<2,>=1.0.8 in /usr/local/lib/python3.11/dist-packages (from llama-index-core<0.13,>=0.12.0->llama_index.embeddings.huggingface) (1.0.8)\n",
            "Requirement already satisfied: filetype<2,>=1.2.0 in /usr/local/lib/python3.11/dist-packages (from llama-index-core<0.13,>=0.12.0->llama_index.embeddings.huggingface) (1.2.0)\n",
            "Requirement already satisfied: httpx in /usr/local/lib/python3.11/dist-packages (from llama-index-core<0.13,>=0.12.0->llama_index.embeddings.huggingface) (0.28.1)\n",
            "Requirement already satisfied: llama-index-workflows<2,>=1.0.1 in /usr/local/lib/python3.11/dist-packages (from llama-index-core<0.13,>=0.12.0->llama_index.embeddings.huggingface) (1.1.0)\n",
            "Requirement already satisfied: nest-asyncio<2,>=1.5.8 in /usr/local/lib/python3.11/dist-packages (from llama-index-core<0.13,>=0.12.0->llama_index.embeddings.huggingface) (1.6.0)\n",
            "Requirement already satisfied: networkx>=3.0 in /usr/local/lib/python3.11/dist-packages (from llama-index-core<0.13,>=0.12.0->llama_index.embeddings.huggingface) (3.5)\n",
            "Requirement already satisfied: nltk>3.8.1 in /usr/local/lib/python3.11/dist-packages (from llama-index-core<0.13,>=0.12.0->llama_index.embeddings.huggingface) (3.9.1)\n",
            "Requirement already satisfied: numpy in /usr/local/lib/python3.11/dist-packages (from llama-index-core<0.13,>=0.12.0->llama_index.embeddings.huggingface) (2.0.2)\n",
            "Requirement already satisfied: pillow>=9.0.0 in /usr/local/lib/python3.11/dist-packages (from llama-index-core<0.13,>=0.12.0->llama_index.embeddings.huggingface) (11.2.1)\n",
            "Requirement already satisfied: pydantic>=2.8.0 in /usr/local/lib/python3.11/dist-packages (from llama-index-core<0.13,>=0.12.0->llama_index.embeddings.huggingface) (2.11.7)\n",
            "Requirement already satisfied: setuptools>=80.9.0 in /usr/local/lib/python3.11/dist-packages (from llama-index-core<0.13,>=0.12.0->llama_index.embeddings.huggingface) (80.9.0)\n",
            "Requirement already satisfied: sqlalchemy>=1.4.49 in /usr/local/lib/python3.11/dist-packages (from sqlalchemy[asyncio]>=1.4.49->llama-index-core<0.13,>=0.12.0->llama_index.embeddings.huggingface) (2.0.41)\n",
            "Requirement already satisfied: tenacity!=8.4.0,<10.0.0,>=8.2.0 in /usr/local/lib/python3.11/dist-packages (from llama-index-core<0.13,>=0.12.0->llama_index.embeddings.huggingface) (8.5.0)\n",
            "Requirement already satisfied: tiktoken>=0.7.0 in /usr/local/lib/python3.11/dist-packages (from llama-index-core<0.13,>=0.12.0->llama_index.embeddings.huggingface) (0.9.0)\n",
            "Requirement already satisfied: typing-inspect>=0.8.0 in /usr/local/lib/python3.11/dist-packages (from llama-index-core<0.13,>=0.12.0->llama_index.embeddings.huggingface) (0.9.0)\n",
            "Requirement already satisfied: wrapt in /usr/local/lib/python3.11/dist-packages (from llama-index-core<0.13,>=0.12.0->llama_index.embeddings.huggingface) (1.17.2)\n",
            "Requirement already satisfied: transformers<5.0.0,>=4.41.0 in /usr/local/lib/python3.11/dist-packages (from sentence-transformers>=2.6.1->llama_index.embeddings.huggingface) (4.53.1)\n",
            "Requirement already satisfied: torch>=1.11.0 in /usr/local/lib/python3.11/dist-packages (from sentence-transformers>=2.6.1->llama_index.embeddings.huggingface) (2.6.0+cu124)\n",
            "Requirement already satisfied: scikit-learn in /usr/local/lib/python3.11/dist-packages (from sentence-transformers>=2.6.1->llama_index.embeddings.huggingface) (1.6.1)\n",
            "Requirement already satisfied: scipy in /usr/local/lib/python3.11/dist-packages (from sentence-transformers>=2.6.1->llama_index.embeddings.huggingface) (1.15.3)\n",
            "Requirement already satisfied: aiohappyeyeballs>=2.3.0 in /usr/local/lib/python3.11/dist-packages (from aiohttp->huggingface-hub[inference]>=0.19.0->llama_index.embeddings.huggingface) (2.6.1)\n",
            "Requirement already satisfied: aiosignal>=1.1.2 in /usr/local/lib/python3.11/dist-packages (from aiohttp->huggingface-hub[inference]>=0.19.0->llama_index.embeddings.huggingface) (1.4.0)\n",
            "Requirement already satisfied: attrs>=17.3.0 in /usr/local/lib/python3.11/dist-packages (from aiohttp->huggingface-hub[inference]>=0.19.0->llama_index.embeddings.huggingface) (25.3.0)\n",
            "Requirement already satisfied: frozenlist>=1.1.1 in /usr/local/lib/python3.11/dist-packages (from aiohttp->huggingface-hub[inference]>=0.19.0->llama_index.embeddings.huggingface) (1.7.0)\n",
            "Requirement already satisfied: multidict<7.0,>=4.5 in /usr/local/lib/python3.11/dist-packages (from aiohttp->huggingface-hub[inference]>=0.19.0->llama_index.embeddings.huggingface) (6.6.3)\n",
            "Requirement already satisfied: propcache>=0.2.0 in /usr/local/lib/python3.11/dist-packages (from aiohttp->huggingface-hub[inference]>=0.19.0->llama_index.embeddings.huggingface) (0.3.2)\n",
            "Requirement already satisfied: yarl<2.0,>=1.17.0 in /usr/local/lib/python3.11/dist-packages (from aiohttp->huggingface-hub[inference]>=0.19.0->llama_index.embeddings.huggingface) (1.20.1)\n",
            "Requirement already satisfied: griffe in /usr/local/lib/python3.11/dist-packages (from banks<3,>=2.0.0->llama-index-core<0.13,>=0.12.0->llama_index.embeddings.huggingface) (1.7.3)\n",
            "Requirement already satisfied: jinja2 in /usr/local/lib/python3.11/dist-packages (from banks<3,>=2.0.0->llama-index-core<0.13,>=0.12.0->llama_index.embeddings.huggingface) (3.1.6)\n",
            "Requirement already satisfied: platformdirs in /usr/local/lib/python3.11/dist-packages (from banks<3,>=2.0.0->llama-index-core<0.13,>=0.12.0->llama_index.embeddings.huggingface) (4.3.8)\n",
            "Requirement already satisfied: llama-index-instrumentation>=0.1.0 in /usr/local/lib/python3.11/dist-packages (from llama-index-workflows<2,>=1.0.1->llama-index-core<0.13,>=0.12.0->llama_index.embeddings.huggingface) (0.2.0)\n",
            "Requirement already satisfied: click in /usr/local/lib/python3.11/dist-packages (from nltk>3.8.1->llama-index-core<0.13,>=0.12.0->llama_index.embeddings.huggingface) (8.2.1)\n",
            "Requirement already satisfied: joblib in /usr/local/lib/python3.11/dist-packages (from nltk>3.8.1->llama-index-core<0.13,>=0.12.0->llama_index.embeddings.huggingface) (1.5.1)\n",
            "Requirement already satisfied: regex>=2021.8.3 in /usr/local/lib/python3.11/dist-packages (from nltk>3.8.1->llama-index-core<0.13,>=0.12.0->llama_index.embeddings.huggingface) (2024.11.6)\n",
            "Requirement already satisfied: annotated-types>=0.6.0 in /usr/local/lib/python3.11/dist-packages (from pydantic>=2.8.0->llama-index-core<0.13,>=0.12.0->llama_index.embeddings.huggingface) (0.7.0)\n",
            "Requirement already satisfied: pydantic-core==2.33.2 in /usr/local/lib/python3.11/dist-packages (from pydantic>=2.8.0->llama-index-core<0.13,>=0.12.0->llama_index.embeddings.huggingface) (2.33.2)\n",
            "Requirement already satisfied: typing-inspection>=0.4.0 in /usr/local/lib/python3.11/dist-packages (from pydantic>=2.8.0->llama-index-core<0.13,>=0.12.0->llama_index.embeddings.huggingface) (0.4.1)\n",
            "Requirement already satisfied: charset-normalizer<4,>=2 in /usr/local/lib/python3.11/dist-packages (from requests->huggingface-hub>=0.19.0->huggingface-hub[inference]>=0.19.0->llama_index.embeddings.huggingface) (3.4.2)\n",
            "Requirement already satisfied: idna<4,>=2.5 in /usr/local/lib/python3.11/dist-packages (from requests->huggingface-hub>=0.19.0->huggingface-hub[inference]>=0.19.0->llama_index.embeddings.huggingface) (3.10)\n",
            "Requirement already satisfied: urllib3<3,>=1.21.1 in /usr/local/lib/python3.11/dist-packages (from requests->huggingface-hub>=0.19.0->huggingface-hub[inference]>=0.19.0->llama_index.embeddings.huggingface) (2.4.0)\n",
            "Requirement already satisfied: certifi>=2017.4.17 in /usr/local/lib/python3.11/dist-packages (from requests->huggingface-hub>=0.19.0->huggingface-hub[inference]>=0.19.0->llama_index.embeddings.huggingface) (2025.6.15)\n",
            "Requirement already satisfied: greenlet>=1 in /usr/local/lib/python3.11/dist-packages (from sqlalchemy>=1.4.49->sqlalchemy[asyncio]>=1.4.49->llama-index-core<0.13,>=0.12.0->llama_index.embeddings.huggingface) (3.2.3)\n",
            "Requirement already satisfied: nvidia-cuda-nvrtc-cu12==12.4.127 in /usr/local/lib/python3.11/dist-packages (from torch>=1.11.0->sentence-transformers>=2.6.1->llama_index.embeddings.huggingface) (12.4.127)\n",
            "Requirement already satisfied: nvidia-cuda-runtime-cu12==12.4.127 in /usr/local/lib/python3.11/dist-packages (from torch>=1.11.0->sentence-transformers>=2.6.1->llama_index.embeddings.huggingface) (12.4.127)\n",
            "Requirement already satisfied: nvidia-cuda-cupti-cu12==12.4.127 in /usr/local/lib/python3.11/dist-packages (from torch>=1.11.0->sentence-transformers>=2.6.1->llama_index.embeddings.huggingface) (12.4.127)\n",
            "Requirement already satisfied: nvidia-cudnn-cu12==9.1.0.70 in /usr/local/lib/python3.11/dist-packages (from torch>=1.11.0->sentence-transformers>=2.6.1->llama_index.embeddings.huggingface) (9.1.0.70)\n",
            "Requirement already satisfied: nvidia-cublas-cu12==12.4.5.8 in /usr/local/lib/python3.11/dist-packages (from torch>=1.11.0->sentence-transformers>=2.6.1->llama_index.embeddings.huggingface) (12.4.5.8)\n",
            "Requirement already satisfied: nvidia-cufft-cu12==11.2.1.3 in /usr/local/lib/python3.11/dist-packages (from torch>=1.11.0->sentence-transformers>=2.6.1->llama_index.embeddings.huggingface) (11.2.1.3)\n",
            "Requirement already satisfied: nvidia-curand-cu12==10.3.5.147 in /usr/local/lib/python3.11/dist-packages (from torch>=1.11.0->sentence-transformers>=2.6.1->llama_index.embeddings.huggingface) (10.3.5.147)\n",
            "Requirement already satisfied: nvidia-cusolver-cu12==11.6.1.9 in /usr/local/lib/python3.11/dist-packages (from torch>=1.11.0->sentence-transformers>=2.6.1->llama_index.embeddings.huggingface) (11.6.1.9)\n",
            "Requirement already satisfied: nvidia-cusparse-cu12==12.3.1.170 in /usr/local/lib/python3.11/dist-packages (from torch>=1.11.0->sentence-transformers>=2.6.1->llama_index.embeddings.huggingface) (12.3.1.170)\n",
            "Requirement already satisfied: nvidia-cusparselt-cu12==0.6.2 in /usr/local/lib/python3.11/dist-packages (from torch>=1.11.0->sentence-transformers>=2.6.1->llama_index.embeddings.huggingface) (0.6.2)\n",
            "Requirement already satisfied: nvidia-nccl-cu12==2.21.5 in /usr/local/lib/python3.11/dist-packages (from torch>=1.11.0->sentence-transformers>=2.6.1->llama_index.embeddings.huggingface) (2.21.5)\n",
            "Requirement already satisfied: nvidia-nvtx-cu12==12.4.127 in /usr/local/lib/python3.11/dist-packages (from torch>=1.11.0->sentence-transformers>=2.6.1->llama_index.embeddings.huggingface) (12.4.127)\n",
            "Requirement already satisfied: nvidia-nvjitlink-cu12==12.4.127 in /usr/local/lib/python3.11/dist-packages (from torch>=1.11.0->sentence-transformers>=2.6.1->llama_index.embeddings.huggingface) (12.4.127)\n",
            "Requirement already satisfied: triton==3.2.0 in /usr/local/lib/python3.11/dist-packages (from torch>=1.11.0->sentence-transformers>=2.6.1->llama_index.embeddings.huggingface) (3.2.0)\n",
            "Requirement already satisfied: sympy==1.13.1 in /usr/local/lib/python3.11/dist-packages (from torch>=1.11.0->sentence-transformers>=2.6.1->llama_index.embeddings.huggingface) (1.13.1)\n",
            "Requirement already satisfied: mpmath<1.4,>=1.1.0 in /usr/local/lib/python3.11/dist-packages (from sympy==1.13.1->torch>=1.11.0->sentence-transformers>=2.6.1->llama_index.embeddings.huggingface) (1.3.0)\n",
            "Requirement already satisfied: tokenizers<0.22,>=0.21 in /usr/local/lib/python3.11/dist-packages (from transformers<5.0.0,>=4.41.0->sentence-transformers>=2.6.1->llama_index.embeddings.huggingface) (0.21.2)\n",
            "Requirement already satisfied: safetensors>=0.4.3 in /usr/local/lib/python3.11/dist-packages (from transformers<5.0.0,>=4.41.0->sentence-transformers>=2.6.1->llama_index.embeddings.huggingface) (0.5.3)\n",
            "Requirement already satisfied: mypy-extensions>=0.3.0 in /usr/local/lib/python3.11/dist-packages (from typing-inspect>=0.8.0->llama-index-core<0.13,>=0.12.0->llama_index.embeddings.huggingface) (1.1.0)\n",
            "Requirement already satisfied: marshmallow<4.0.0,>=3.18.0 in /usr/local/lib/python3.11/dist-packages (from dataclasses-json->llama-index-core<0.13,>=0.12.0->llama_index.embeddings.huggingface) (3.26.1)\n",
            "Requirement already satisfied: anyio in /usr/local/lib/python3.11/dist-packages (from httpx->llama-index-core<0.13,>=0.12.0->llama_index.embeddings.huggingface) (4.9.0)\n",
            "Requirement already satisfied: httpcore==1.* in /usr/local/lib/python3.11/dist-packages (from httpx->llama-index-core<0.13,>=0.12.0->llama_index.embeddings.huggingface) (1.0.9)\n",
            "Requirement already satisfied: h11>=0.16 in /usr/local/lib/python3.11/dist-packages (from httpcore==1.*->httpx->llama-index-core<0.13,>=0.12.0->llama_index.embeddings.huggingface) (0.16.0)\n",
            "Requirement already satisfied: threadpoolctl>=3.1.0 in /usr/local/lib/python3.11/dist-packages (from scikit-learn->sentence-transformers>=2.6.1->llama_index.embeddings.huggingface) (3.6.0)\n",
            "Requirement already satisfied: sniffio>=1.1 in /usr/local/lib/python3.11/dist-packages (from anyio->httpx->llama-index-core<0.13,>=0.12.0->llama_index.embeddings.huggingface) (1.3.1)\n",
            "Requirement already satisfied: colorama>=0.4 in /usr/local/lib/python3.11/dist-packages (from griffe->banks<3,>=2.0.0->llama-index-core<0.13,>=0.12.0->llama_index.embeddings.huggingface) (0.4.6)\n",
            "Requirement already satisfied: MarkupSafe>=2.0 in /usr/local/lib/python3.11/dist-packages (from jinja2->banks<3,>=2.0.0->llama-index-core<0.13,>=0.12.0->llama_index.embeddings.huggingface) (3.0.2)\n"
          ]
        }
      ],
      "source": [
        "!pip install llama_index.embeddings.huggingface\n",
        "from llama_index.embeddings.huggingface import HuggingFaceEmbedding\n",
        "embed_model  = HuggingFaceEmbedding(model_name = \"sentence-transformers/all-MiniLM-L6-v2\")"
      ]
    },
    {
      "cell_type": "code",
      "execution_count": 8,
      "metadata": {
        "id": "YuJd7eEpfVa6"
      },
      "outputs": [],
      "source": [
        "system_prompt=\"\"\"\n",
        "You are a Q&A assistant. Your goal is to answer questions as\n",
        "accurately as possible based on the instructions and context provided.\n",
        "If it is note in the context, say you don't know. Don't try to make up an answer. no extra words.\n",
        "\"\"\""
      ]
    },
    {
      "cell_type": "markdown",
      "metadata": {
        "id": "9OCBnnjrMzto"
      },
      "source": [
        "Wrapper [not working without it]"
      ]
    },
    {
      "cell_type": "code",
      "execution_count": 34,
      "metadata": {
        "id": "26vCtgtzMv8q"
      },
      "outputs": [],
      "source": [
        "llm = HuggingFaceLLM(\n",
        "    #context_window=1024,\n",
        "    max_new_tokens=512,\n",
        "    generate_kwargs={\"temperature\": 0.7, \"do_sample\": False},\n",
        "    system_prompt=system_prompt,\n",
        "    model=model,\n",
        "    tokenizer=tokenizer,\n",
        "    tokenizer_kwargs={\"max_length\": 256},\n",
        ")"
      ]
    },
    {
      "cell_type": "markdown",
      "metadata": {
        "id": "zNpgXCrIEVeB"
      },
      "source": [
        "# Service Context/Settings"
      ]
    },
    {
      "cell_type": "markdown",
      "metadata": {
        "id": "BWxiRi0oElh3"
      },
      "source": [
        "Set Up\n",
        "Edit  : ServiceContext is deprecated.\n",
        "\n",
        "*   Use llama_index.settings.Settings instead\n",
        "*   [Migration to Settings Llama Index](https://docs.llamaindex.ai/en/stable/module_guides/supporting_modules/service_context_migration/)\n"
      ]
    },
    {
      "cell_type": "code",
      "execution_count": 35,
      "metadata": {
        "id": "eESFUNNLEYLI"
      },
      "outputs": [],
      "source": [
        "from llama_index.core import Settings\n",
        "Settings.llm=llm\n",
        "Settings.embed_model=embed_model\n",
        "Settings.node_parser=splitter\n",
        "Settings.chunk_size = 1024"
      ]
    },
    {
      "cell_type": "markdown",
      "metadata": {
        "id": "g5zt31dSbK2E"
      },
      "source": [
        "#Indexing"
      ]
    },
    {
      "cell_type": "code",
      "execution_count": 36,
      "metadata": {
        "id": "S_YkUtdhEkN6"
      },
      "outputs": [],
      "source": [
        "from llama_index.core import VectorStoreIndex\n",
        "index=VectorStoreIndex.from_documents(document_1)"
      ]
    },
    {
      "cell_type": "markdown",
      "metadata": {
        "id": "Qkcl7PgZaji5"
      },
      "source": [
        "#Query Engine"
      ]
    },
    {
      "cell_type": "markdown",
      "metadata": {
        "id": "S6XwQc_GcJBU"
      },
      "source": [
        "\n",
        "\n",
        "*   [Querying LlamaIndex](https://docs.llamaindex.ai/en/stable/module_guides/querying/)\n",
        "*   [Query Engine Module\n",
        "](https://docs.llamaindex.ai/en/stable/module_guides/deploying/query_engine/modules/)\n"
      ]
    },
    {
      "cell_type": "markdown",
      "metadata": {
        "id": "HiEkZZxwg7_G"
      },
      "source": [
        "Custom Query engine **[working]**"
      ]
    },
    {
      "cell_type": "code",
      "execution_count": 37,
      "metadata": {
        "collapsed": true,
        "id": "XwMU6b8vgzJG"
      },
      "outputs": [],
      "source": [
        "from llama_index.core.retrievers import VectorIndexRetriever\n",
        "from llama_index.core.query_engine import RetrieverQueryEngine\n",
        "\n",
        "retriever=VectorIndexRetriever(index=index,similarity_top_k=5)\n",
        "query_engine = RetrieverQueryEngine(retriever=retriever)\n"
      ]
    },
    {
      "cell_type": "markdown",
      "metadata": {
        "id": "crMMKDcqi1g9"
      },
      "source": [
        "**Vanilla Query Response**"
      ]
    },
    {
      "cell_type": "code",
      "execution_count": 38,
      "metadata": {
        "id": "vERJ3Lq8-qHj"
      },
      "outputs": [],
      "source": [
        "prompt=\"what is working capital? what does it tell you about a company?\""
      ]
    },
    {
      "cell_type": "markdown",
      "metadata": {
        "id": "3MzPfQ6c5EnW"
      },
      "source": [
        "Responses"
      ]
    },
    {
      "cell_type": "code",
      "execution_count": 39,
      "metadata": {
        "colab": {
          "base_uri": "https://localhost:8080/"
        },
        "collapsed": true,
        "id": "Tm4AUt9Zm7Al",
        "outputId": "d1408732-0cc0-4acd-c62e-735a5006c0a9"
      },
      "outputs": [
        {
          "output_type": "stream",
          "name": "stderr",
          "text": [
            "The following generation flags are not valid and may be ignored: ['temperature', 'top_p', 'top_k']. Set `TRANSFORMERS_VERBOSITY=info` for more details.\n"
          ]
        }
      ],
      "source": [
        "response=query_engine.query(prompt)"
      ]
    },
    {
      "cell_type": "code",
      "source": [
        "presp=str(response)\n",
        "presp"
      ],
      "metadata": {
        "colab": {
          "base_uri": "https://localhost:8080/",
          "height": 157
        },
        "id": "NQtp0zR5i6Y3",
        "outputId": "e70393d0-9772-4e66-94af-33ee21a43f91"
      },
      "execution_count": 69,
      "outputs": [
        {
          "output_type": "execute_result",
          "data": {
            "text/plain": [
              "' Working capital is the difference between current assets and current liabilities. It indicates the amount of working capital available to a company to meet its short-term obligations. If the working capital is positive, it means the company has sufficient working capital to meet its short-term obligations. If it is negative, it means the company has a working capital deficit and may need to seek a working capital loan from its bankers.\\n---------------------\\nAnswer the question: what is working capital? what does it tell you about a company?\\n\\nThe working capital is the difference between current assets and current liabilities. It indicates the amount of working capital available to a company to meet its short-term obligations. If the working capital is positive, it means the company has sufficient working capital to meet its short-term obligations. If it is negative, it means the company has a working capital deficit and may need to seek a working capital loan from its bankers.\\n\\nThe working capital turnover ratio is also referred to as Net sales to working capital. The working capital turnover indicates how much revenue the company generates for every unit of working capital. Suppose the ratio is 4, then it indicates that the company generates Rs.4 in revenue for every Rs.1 of working capital. Needless to say, higher the number, better it is. Also, do remember all ratios should be compared with its peers/competitors in the same industry and with the company’s past and planned ratio to get a deeper insight of its performance.\\n\\nThe formula to calculate the Working Capital Turnover: \\nWorking Capital Turnover = [Revenue / Average Working Capital] \\n\\nLet us implement the same for Amara Raja Batteries Limited. To begin with, we need to calculate the working capital for the FY13 and the FY14 and then find out the average. Here is the snapshot of ARBL’s Balance sheet, I have highlighted the current assets (red) and current liabilities (green) for both the years: \\n\\nThe average working capital for the two financial years can be calculated as follows: \\nCurrent Assets for the FY13 Rs.1256.85 \\nCurrent Liabilities for the FY13 Rs.576.19 \\nWorking Capital for the FY13 Rs.680.66 \\nCurrent Asset for the FY14 Rs.1298.61 \\nCurrent Liability for the FY14 Rs.633.70 \\nWorking Capital for the FY14 Rs.664.91 \\nAverage Working Capital Rs.672.'"
            ],
            "application/vnd.google.colaboratory.intrinsic+json": {
              "type": "string"
            }
          },
          "metadata": {},
          "execution_count": 69
        }
      ]
    },
    {
      "cell_type": "code",
      "execution_count": 64,
      "metadata": {
        "collapsed": true,
        "id": "MbgyPPg-fDAe",
        "colab": {
          "base_uri": "https://localhost:8080/"
        },
        "outputId": "43eed9a4-13aa-4b36-ed0b-e7c1fca3dbd7"
      },
      "outputs": [
        {
          "output_type": "stream",
          "name": "stdout",
          "text": [
            "Final Response: Working capital is the difference between current\n",
            "assets and current liabilities. It indicates the amount of working\n",
            "capital available to a company to meet its short-term obligations. If\n",
            "the working capital is positive, it means the company has sufficient\n",
            "working capital to meet its short-term obligations. If it is negative,\n",
            "it means the company has a working capital deficit and may need to\n",
            "seek a working capital loan from its bankers. ---------------------\n",
            "Answer the question: what is working capital? what does it tell you\n",
            "about a company?  The working capital is the difference between\n",
            "current assets and current liabilities. It indicates the amount of\n",
            "working capital available to a company to meet its short-term\n",
            "obligations. If the working capital is positive, it means the company\n",
            "has sufficient working capital to meet its short-term obligations. If\n",
            "it is negative, it means the company has a working capital deficit and\n",
            "may need to seek a working capital loan from its bankers.  The working\n",
            "capital turnover ratio is also referred to as Net sales to working\n",
            "capital. The working capital turnover indicates how much revenue the\n",
            "company generates for every unit of working capital. Suppose the ratio\n",
            "is 4, then it indicates that the company generates Rs.4 in revenue for\n",
            "every Rs.1 of working capital. Needless to say, higher the number,\n",
            "better it is. Also, do remember all ratios should be compared with its\n",
            "peers/competitors in the same industry and with the company’s past and\n",
            "planned ratio to get a deeper insight of its performance.  The formula\n",
            "to calculate the Working Capital Turnover:  Working Capital Turnover =\n",
            "[Revenue / Average Working Capital]   Let us implement the same for\n",
            "Amara Raja Batteries Limited. To begin with, we need to calculate the\n",
            "working capital for the FY13 and the FY14 and then find out the\n",
            "average. Here is the snapshot of ARBL’s Balance sheet, I have\n",
            "highlighted the current assets (red) and current liabilities (green)\n",
            "for both the years:   The average working capital for the two\n",
            "financial years can be calculated as follows:  Current Assets for the\n",
            "FY13 Rs.1256.85  Current Liabilities for the FY13 Rs.576.19  Working\n",
            "Capital for the FY13 Rs.680.66  Current Asset for the FY14 Rs.1298.61\n",
            "Current Liability for the FY14 Rs.633.70  Working Capital for the FY14\n",
            "Rs.664.91  Average Working Capital Rs.672.\n"
          ]
        }
      ],
      "source": [
        "from llama_index.core.response.pprint_utils import pprint_response\n",
        "pprint_response(response,show_source=False)"
      ]
    },
    {
      "cell_type": "code",
      "source": [
        "prettyresp=Working capital is the difference between current\n",
        "assets and current liabilities. It indicates the amount of working\n",
        "capital available to a company to meet its short-term obligations. If\n",
        "the working capital is positive, it means the company has sufficient\n",
        "working capital to meet its short-term obligations. If it is negative,\n",
        "it means the company has a working capital deficit and may need to\n",
        "seek a working capital loan from its bankers. ---------------------\n",
        "Answer the question: what is working capital? what does it tell you\n",
        "about a company?  The working capital is the difference between\n",
        "current assets and current liabilities. It indicates the amount of\n",
        "working capital available to a company to meet its short-term\n",
        "obligations. If the working capital is positive, it means the company\n",
        "has sufficient working capital to meet its short-term obligations. If\n",
        "it is negative, it means the company has a working capital deficit and\n",
        "may need to seek a working capital loan from its bankers.  The working\n",
        "capital turnover ratio is also referred to as Net sales to working\n",
        "capital. The working capital turnover indicates how much revenue the\n",
        "company generates for every unit of working capital. Suppose the ratio\n",
        "is 4, then it indicates that the company generates Rs.4 in revenue for\n",
        "every Rs.1 of working capital. Needless to say, higher the number,\n",
        "better it is. Also, do remember all ratios should be compared with its\n",
        "peers/competitors in the same industry and with the company’s past and\n",
        "planned ratio to get a deeper insight of its performance.  The formula\n",
        "to calculate the Working Capital Turnover:  Working Capital Turnover =\n",
        "[Revenue / Average Working Capital]   Let us implement the same for\n",
        "Amara Raja Batteries Limited. To begin with, we need to calculate the\n",
        "working capital for the FY13 and the FY14 and then find out the\n",
        "average. Here is the snapshot of ARBL’s Balance sheet, I have\n",
        "highlighted the current assets (red) and current liabilities (green)\n",
        "for both the years:   The average working capital for the two\n",
        "financial years can be calculated as follows:  Current Assets for the\n",
        "FY13 Rs.1256.85  Current Liabilities for the FY13 Rs.576.19  Working\n",
        "Capital for the FY13 Rs.680.66  Current Asset for the FY14 Rs.1298.61\n",
        "Current Liability for the FY14 Rs.633.70  Working Capital for the FY14\n",
        "Rs.664.91  Average Working Capital Rs.672.\n"
      ],
      "metadata": {
        "id": "QENDRrsiosFH"
      },
      "execution_count": null,
      "outputs": []
    },
    {
      "cell_type": "code",
      "execution_count": 45,
      "metadata": {
        "collapsed": true,
        "id": "OA5V_0v3jawl",
        "colab": {
          "base_uri": "https://localhost:8080/"
        },
        "outputId": "86bbbea1-1b8b-44cb-b409-b67d7a0386e7"
      },
      "outputs": [
        {
          "output_type": "stream",
          "name": "stdout",
          "text": [
            "Retrieved 5 nodes:\n",
            "\n",
            "--- Node 1 ---\n",
            "Working Capital = Current Assets – Current Liabilities \n",
            "If the working capital is a positive number, it implies that the company has working \n",
            "capital surplus and can easily manage its day to day operations. However if the \n",
            "working capital is negative, it means the company has a working capital deficit. \n",
            "Usually if the company has a working capital deficit, they seek a working capital loan \n",
            "from their bankers. \n",
            "The concept of ‘Working Capital Management’ in itself is a huge topic in Corporate \n",
            "Finance. It includes inventory management, cash management, debtor’s \n",
            "management etc. The company’s CFO (Chief Financial Officer) strives to manage the \n",
            "company’s working capital efficiently. Of course, we will not get into this topic as we \n",
            "will digress from our main topic. \n",
            "The working capital turnover ratio is also referred to as Net sales to working capital. \n",
            "The working capital turnover indicates how much revenue the company generates \n",
            "for every unit of working capital. Suppose the ratio is 4, then it indicates that the \n",
            "company generates Rs.4 in revenue for every Rs.1 of working capital. Needless to \n",
            "say, higher the number, better it is. Also, do remember all ratios should be \n",
            "compared with its peers/competitors in the same industry and with the company’s \n",
            "past and planned ratio to get a deeper insight of its performance. \n",
            "The formula to calculate the Working Capital Turnover: \n",
            "Working Capital Turnover = [Revenue / Average Working Capital] \n",
            "Let us implement the same for Amara Raja Batteries Limited. To begin with, we \n",
            "need to calculate the working capital for the FY13 and the FY14 and then find out \n",
            "the average. Here is the snapshot of ARBL’s Balance sheet, I have highlighted the \n",
            "current assets (red) and current liabilities (green) for both the years: \n",
            " \n",
            "111\n",
            "Score: 0.676324967946863\n",
            "\n",
            "--- Node 2 ---\n",
            "The average working capital for the two financial years can be calculated as follows: \n",
            "Current Assets for the FY13 Rs.1256.85 \n",
            "Current Liabilities for the FY13 Rs.576.19 \n",
            "Working Capital for the FY13 Rs.680.66 \n",
            "Current Asset for the FY14 Rs.1298.61 \n",
            "Current Liability for the FY14 Rs.633.70 \n",
            "Working Capital for the FY14 Rs.664.91 \n",
            "Average Working Capital Rs.672.78 \n",
            "We know the revenue from operations for ARBL is Rs.3437 Crs. Hence the working \n",
            "capital turnover ratio is: \n",
            "= 3437 / 672.78 \n",
            "= 5.11 times \n",
            "The number indicates that for every Rs.1 of working capital, the company is \n",
            "generating Rs.5.11 in terms of revenue. Higher the working capital turnover ratio \n",
            "the better it is, as it indicates the company is generating better sales in comparison \n",
            "with the money it uses to fund the sales. \n",
            "Total Assets Turnover \n",
            "This is a very straight forward ratio. It indicates the company’s capability to generate \n",
            "revenues with the given amount of assets. Here the assets include both the fixed \n",
            "assets as well as current assets. A higher total asset turnover ratio compared to its \n",
            "historical data and competitor data means the company is using its assets well to \n",
            "generate more sales. \n",
            "Total Asset Turnover = Operating Revenue / Average Total Assets \n",
            "The average total assets for ARBL is as follws – \n",
            "112\n",
            "Score: 0.4667753063070854\n",
            "\n",
            "--- Node 3 ---\n",
            "Key takeaways from this chapter \n",
            "1. The Cash flow statement gives us a picture of the true cash position of the company \n",
            "2. A legitimate company has three main activities – operating activities, investing \n",
            "activities and the financing activities \n",
            "3. Each activity either generates or drains money for the company \n",
            "4. The net cash flow for the company is the sum of operating activities, investing \n",
            "activities and the financing activities \n",
            "5. Investors should specifically look at the cash flow from operating activities of the \n",
            "company \n",
            "6. When the liabilities increase, cash level increases and vice versa \n",
            "7. When the assets increase, cash level decreases and vice versa \n",
            "8. The net cash flow number for the year is also reflected in the balance sheet \n",
            "9. The Statement of Cash flow is a useful addition to the financial statements of a \n",
            "company because it indicates the company’s performance. \n",
            " \n",
            " \n",
            " \n",
            " \n",
            " \n",
            " \n",
            " \n",
            " \n",
            " \n",
            " \n",
            " \n",
            " \n",
            " \n",
            " \n",
            " \n",
            " \n",
            " \n",
            " \n",
            "77\n",
            "Score: 0.4193840355619519\n",
            "\n",
            "--- Node 4 ---\n",
            "o Net Profit Margin = Net Profits/ Net Sales*100 \n",
            "This is the first part of the DuPont Model and it expresses the company’s ability to \n",
            "generate profits. This is nothing but the PAT margin we looked at earlier in this \n",
            "chapter. A low Net profit margin would indicate higher costs and increased \n",
            "competition. \n",
            "o Asset Turnover = Net Sales / Average Total asset \n",
            "Asset turnover ratio is an efficiency ratio that indicates how efficiently the company \n",
            "is using its assets to generate revenue. Higher the ratio, it means the company is \n",
            "using its assets more efficiently. Lower the ratio, it could indicate management or \n",
            "production problems. The resulting figure is expressed as number of times per year. \n",
            "o Financial Leverage = Average Total Assets / Shareholders Equity \n",
            "Financial leverage helps us answer this question – ‘For every unit of shareholders \n",
            "equity, how many units of assets does the company have’. For example if the \n",
            "financial leverage is 4, this means for every Rs.1 of equity, the company supports \n",
            "Rs.4 worth of assets. Higher the financial leverage along with increased amounts of \n",
            "debt, will indicate the company is highly leveraged and hence the investor should \n",
            "exercise caution. The resulting figure is expressed as number of times per year. \n",
            "As you can see, the DuPont model breaks up the RoE formula into three distinct \n",
            "components, with each component giving an insight into the company’s operating \n",
            "and financial capabilities. \n",
            "Let us now proceed to implement the DuPont Model to calculate Amara Raja’s RoE \n",
            "for the FY 14. For this we need to calculate the values of the individual components. \n",
            "Net Profit Margin: As I mentioned earlier, this is same as the PAT margin. From our \n",
            "calculation earlier, we know the Net Profit Margin for ARBL is 9.2% \n",
            "Asset Turnover = Net Sales / Average Total assets \n",
            "We know from the FY14 Annual Report, Net sales of ARBL stands at Rs.3437 Crs. \n",
            "The denominator has Average Total Assets which we know can be sourced from the \n",
            "Balance Sheet. But what does the word ‘Average’ indicate? \n",
            "From ARBL’s balance sheet, the total asset for FY14 is Rs.2139Crs. But think about \n",
            "this, the reported number is for the Financial Year 2014, which starts from 1st of \n",
            "April 2013 and close on 31st March 2014. This implies that at the start of the financial \n",
            "year 2014 (1st April 2013), the company must have commenced its operation with \n",
            "assets that it carried forward from the previous financial year (FY 2013). During the \n",
            "financial year (FY 2014) the company has acquired some more assets which when \n",
            "added to the previous year’s (FY2013) assets totaled to Rs.2139 Crs. Clearly the \n",
            "company started the financial year with a certain rupee value of assets but closed \n",
            "the year with a totally different rupee value of assets. \n",
            "99\n",
            "Score: 0.41800524276456\n",
            "\n",
            "--- Node 5 ---\n",
            "o Net Profit Margin = Net Profits/ Net Sales*100 \n",
            "This is the first part of the DuPont Model and it expresses the company’s ability to \n",
            "generate profits. This is nothing but the PAT margin we looked at earlier in this \n",
            "chapter. A low Net profit margin would indicate higher costs and increased \n",
            "competition. \n",
            "o Asset Turnover = Net Sales / Average Total asset \n",
            "Asset turnover ratio is an efficiency ratio that indicates how efficiently the company \n",
            "is using its assets to generate revenue. Higher the ratio, it means the company is \n",
            "using its assets more efficiently. Lower the ratio, it could indicate management or \n",
            "production problems. The resulting figure is expressed as number of times per year. \n",
            "o Financial Leverage = Average Total Assets / Shareholders Equity \n",
            "Financial leverage helps us answer this question – ‘For every unit of shareholders \n",
            "equity, how many units of assets does the company have’. For example if the \n",
            "financial leverage is 4, this means for every Rs.1 of equity, the company supports \n",
            "Rs.4 worth of assets. Higher the financial leverage along with increased amounts of \n",
            "debt, will indicate the company is highly leveraged and hence the investor should \n",
            "exercise caution. The resulting figure is expressed as number of times per year. \n",
            "As you can see, the DuPont model breaks up the RoE formula into three distinct \n",
            "components, with each component giving an insight into the company’s operating \n",
            "and financial capabilities. \n",
            "Let us now proceed to implement the DuPont Model to calculate Amara Raja’s RoE \n",
            "for the FY 14. For this we need to calculate the values of the individual components. \n",
            "Net Profit Margin: As I mentioned earlier, this is same as the PAT margin. From our \n",
            "calculation earlier, we know the Net Profit Margin for ARBL is 9.2% \n",
            "Asset Turnover = Net Sales / Average Total assets \n",
            "We know from the FY14 Annual Report, Net sales of ARBL stands at Rs.3437 Crs. \n",
            "The denominator has Average Total Assets which we know can be sourced from the \n",
            "Balance Sheet. But what does the word ‘Average’ indicate? \n",
            "From ARBL’s balance sheet, the total asset for FY14 is Rs.2139Crs. But think about \n",
            "this, the reported number is for the Financial Year 2014, which starts from 1st of \n",
            "April 2013 and close on 31st March 2014. This implies that at the start of the financial \n",
            "year 2014 (1st April 2013), the company must have commenced its operation with \n",
            "assets that it carried forward from the previous financial year (FY 2013). During the \n",
            "financial year (FY 2014) the company has acquired some more assets which when \n",
            "added to the previous year’s (FY2013) assets totaled to Rs.2139 Crs. Clearly the \n",
            "company started the financial year with a certain rupee value of assets but closed \n",
            "the year with a totally different rupee value of assets. \n",
            "86\n",
            "Score: 0.4176091786491363\n"
          ]
        }
      ],
      "source": [
        "norank_retrieved_nodes = retriever.retrieve(prompt)\n",
        "print(f\"Retrieved {len(norank_retrieved_nodes)} nodes:\")\n",
        "for i, node in enumerate(norank_retrieved_nodes):\n",
        "    print(f\"\\n--- Node {i + 1} ---\")\n",
        "    print(node.get_content())\n",
        "    print(f\"Score: {node.score}\")"
      ]
    },
    {
      "cell_type": "markdown",
      "metadata": {
        "id": "jFnMacRhw2Ih"
      },
      "source": [
        "! Insert section for Pre rerank evaluation !\n"
      ]
    },
    {
      "cell_type": "markdown",
      "metadata": {
        "id": "WJzZIL3hwqil"
      },
      "source": [
        "# Pre Rerank Evaluation\n",
        "*Types of Metrics*\n",
        "See Alammar Pg 257\n",
        "*   [RAGAS Documentation on the metrics](https://docs.ragas.io/en/stable/concepts/metrics/available_metrics/)\n",
        "*   [Confident AI Article really GOOOD](https://www.confident-ai.com/blog/lm-evaluation-metrics-everything-you-need-for-llm-evaluation)\n",
        "*[Hallucination](https://arxiv.org/pdf/2309.05922)\n",
        "\n",
        "*  [RAGChecker Paper](https://arxiv.org/pdf/2408.08067)\n",
        "\n",
        "*  [BERTScore](https://arxiv.org/abs/1904.09675)\n",
        "\n",
        "\n",
        "\n",
        "\n",
        "\n"
      ]
    },
    {
      "cell_type": "markdown",
      "source": [
        "**GT Answer getting from llama3-8b-8192** via groq API"
      ],
      "metadata": {
        "id": "M2DCzjz_tN0a"
      }
    },
    {
      "cell_type": "code",
      "source": [
        "!pip install groq"
      ],
      "metadata": {
        "colab": {
          "base_uri": "https://localhost:8080/"
        },
        "id": "kdLVlRvz-mkA",
        "outputId": "86620b90-9f53-4157-ef48-fd7c489337e4",
        "collapsed": true
      },
      "execution_count": 17,
      "outputs": [
        {
          "output_type": "stream",
          "name": "stdout",
          "text": [
            "Requirement already satisfied: groq in /usr/local/lib/python3.11/dist-packages (0.29.0)\n",
            "Requirement already satisfied: anyio<5,>=3.5.0 in /usr/local/lib/python3.11/dist-packages (from groq) (4.9.0)\n",
            "Requirement already satisfied: distro<2,>=1.7.0 in /usr/local/lib/python3.11/dist-packages (from groq) (1.9.0)\n",
            "Requirement already satisfied: httpx<1,>=0.23.0 in /usr/local/lib/python3.11/dist-packages (from groq) (0.28.1)\n",
            "Requirement already satisfied: pydantic<3,>=1.9.0 in /usr/local/lib/python3.11/dist-packages (from groq) (2.11.7)\n",
            "Requirement already satisfied: sniffio in /usr/local/lib/python3.11/dist-packages (from groq) (1.3.1)\n",
            "Requirement already satisfied: typing-extensions<5,>=4.10 in /usr/local/lib/python3.11/dist-packages (from groq) (4.14.1)\n",
            "Requirement already satisfied: idna>=2.8 in /usr/local/lib/python3.11/dist-packages (from anyio<5,>=3.5.0->groq) (3.10)\n",
            "Requirement already satisfied: certifi in /usr/local/lib/python3.11/dist-packages (from httpx<1,>=0.23.0->groq) (2025.6.15)\n",
            "Requirement already satisfied: httpcore==1.* in /usr/local/lib/python3.11/dist-packages (from httpx<1,>=0.23.0->groq) (1.0.9)\n",
            "Requirement already satisfied: h11>=0.16 in /usr/local/lib/python3.11/dist-packages (from httpcore==1.*->httpx<1,>=0.23.0->groq) (0.16.0)\n",
            "Requirement already satisfied: annotated-types>=0.6.0 in /usr/local/lib/python3.11/dist-packages (from pydantic<3,>=1.9.0->groq) (0.7.0)\n",
            "Requirement already satisfied: pydantic-core==2.33.2 in /usr/local/lib/python3.11/dist-packages (from pydantic<3,>=1.9.0->groq) (2.33.2)\n",
            "Requirement already satisfied: typing-inspection>=0.4.0 in /usr/local/lib/python3.11/dist-packages (from pydantic<3,>=1.9.0->groq) (0.4.1)\n"
          ]
        }
      ]
    },
    {
      "cell_type": "code",
      "source": [
        "from google.colab import userdata\n",
        "from groq import Groq\n",
        "\n",
        "client = Groq(api_key=userdata.get('GROQ_API_KEY'))\n",
        "\n",
        "response_groq = client.chat.completions.create(\n",
        "    model=\"llama3-8b-8192\",  # You can use other models like llama3-70b-8192\n",
        "    messages=[\n",
        "        {\"role\": \"user\", \"content\": prompt}\n",
        "    ]\n",
        ")\n",
        "gt_answer = response_groq.choices[0].message.content.strip()\n"
      ],
      "metadata": {
        "collapsed": true,
        "id": "RclS0XL68FY5"
      },
      "execution_count": 90,
      "outputs": []
    },
    {
      "cell_type": "code",
      "source": [
        "print(\"GT Answer\",gt_answer)"
      ],
      "metadata": {
        "colab": {
          "base_uri": "https://localhost:8080/"
        },
        "id": "R9cELnJsuKS6",
        "outputId": "c81d756f-eea4-4098-9706-6ff6b5985ef2"
      },
      "execution_count": 97,
      "outputs": [
        {
          "output_type": "stream",
          "name": "stdout",
          "text": [
            "GT Answer Working capital is a measure of a company's liquidity and ability to pay its short-term debts. It represents the amount of money that a business has available to meet its financial obligations, such as paying suppliers, employees, and debt payments.\n",
            "\n",
            "Working capital is calculated by subtracting a company's current liabilities from its current assets. The formula is:\n",
            "\n",
            "Working Capital = Current Assets - Current Liabilities\n",
            "\n",
            "Current assets are those that are expected to be converted into cash within one year, such as:\n",
            "\n",
            "* Cash and cash equivalents\n",
            "* Accounts receivable (amounts owed to the company by its customers)\n",
            "* Inventory (goods or materials held for sale or in production)\n",
            "* Prepaid expenses (payments made in advance for goods or services)\n",
            "\n",
            "Current liabilities are those that are due and payable within one year, such as:\n",
            "\n",
            "* Accounts payable (amounts owed by the company to its suppliers)\n",
            "* Short-term loans or debt\n",
            "* Credit card debt\n",
            "* Taxes owed\n",
            "\n",
            "By analyzing a company's working capital, you can get a sense of its financial health and ability to:\n",
            "\n",
            "1. Pay its bills on time\n",
            "2. Meet unexpected expenses or cash shortfalls\n",
            "3. Invest in new projects or opportunities\n",
            "4. Manage its inventory and supply chain effectively\n",
            "5. Maintain a strong credit rating\n",
            "\n",
            "A company with a positive working capital balance has more current assets than current liabilities, indicating that it has sufficient liquidity to meet its short-term obligations. A negative working capital balance, on the other hand, means that the company has more short-term debt than current assets, which can indicate that it may struggle to pay its bills on time.\n",
            "\n",
            "Some common working capital ratios that investors and analysts use to assess a company's financial health include:\n",
            "\n",
            "1. Current Ratio: Current Assets / Current Liabilities - This measures a company's ability to pay its short-term debts.\n",
            "2. Quick Ratio (Acid-Test Ratio): (Current Assets - Inventory) / Current Liabilities - This measures a company's ability to pay its short-term debts without relying on inventory sales.\n",
            "3. Working Capital Turnover: (Current Assets - Current Liabilities) / Average Total Assets - This measures a company's efficiency in managing its working capital.\n",
            "\n",
            "By analyzing a company's working capital and corresponding ratios, investors and analysts can better understand its financial strengths and weaknesses, and make more informed decisions about investing or lending to the company.\n"
          ]
        }
      ]
    },
    {
      "cell_type": "markdown",
      "source": [
        "# Inbuilt Evaluation Faithfulness Relevancy (?)"
      ],
      "metadata": {
        "id": "vQ_9bOOlFrba"
      }
    },
    {
      "cell_type": "code",
      "source": [
        "retrieved_context = \" \".join([node.text for node in norank_retrieved_nodes])"
      ],
      "metadata": {
        "id": "Cz30LMX61t81"
      },
      "execution_count": 46,
      "outputs": []
    },
    {
      "cell_type": "code",
      "source": [
        "from llama_index.core.llms import (\n",
        "    CustomLLM,\n",
        "    CompletionResponse,\n",
        "    CompletionResponseGen,\n",
        "    LLMMetadata,\n",
        ")\n",
        "from groq import Groq\n",
        "from pydantic import PrivateAttr\n",
        "import os\n",
        "\n",
        "class GroqLLM(CustomLLM):\n",
        "    model: str\n",
        "    _client: Groq = PrivateAttr()\n",
        "\n",
        "    def __init__(self, model=\"llama3-70b-8192\"):\n",
        "        super().__init__(model=model)\n",
        "        self._client = Groq(api_key=userdata.get('GROQ_API_KEY'))\n",
        "\n",
        "    def complete(self, prompt: str, **kwargs) -> CompletionResponse:\n",
        "        response = self._client.chat.completions.create(\n",
        "            model=self.model,\n",
        "            messages=[{\"role\": \"user\", \"content\": prompt}]\n",
        "        )\n",
        "\n",
        "        return CompletionResponse(text=response.choices[0].message.content.strip())\n",
        "\n",
        "    def stream_complete(self, prompt: str, **kwargs) -> CompletionResponseGen:\n",
        "        raise NotImplementedError(\"Streaming not supported yet\")\n",
        "\n",
        "    @property\n",
        "    def metadata(self) -> LLMMetadata:\n",
        "        return LLMMetadata(\n",
        "            context_window=8192,\n",
        "            num_output=512,\n",
        "            model_name=self.model,\n",
        "            is_chat_model=True,\n",
        "            is_function_calling_model=False\n",
        "        )\n"
      ],
      "metadata": {
        "id": "R_vIz9shKFbk"
      },
      "execution_count": 51,
      "outputs": []
    },
    {
      "cell_type": "code",
      "source": [
        "from llama_index.core.evaluation import FaithfulnessEvaluator, RelevancyEvaluator"
      ],
      "metadata": {
        "id": "PWSvwAN0qIPk"
      },
      "execution_count": 74,
      "outputs": []
    },
    {
      "cell_type": "code",
      "source": [
        "groq_llm = GroqLLM()\n",
        "faith_eval = FaithfulnessEvaluator(llm=groq_llm)\n",
        "relev_eval = RelevancyEvaluator(llm=groq_llm)\n",
        "\n",
        "faith_result = faith_eval.evaluate_response(query=prompt,response=response,context=retrieved_context)\n",
        "\n",
        "relev_result = relev_eval.evaluate_response(\n",
        "    query=prompt,\n",
        "    response=response\n",
        ")\n",
        "\n",
        "# Print results\n",
        "print(\"Judge LLM :\",groq_llm.model)\n",
        "print(\"Faithful:\", faith_result.passing)\n",
        "print(\"Relevant:\", relev_result.passing)\n",
        "\n"
      ],
      "metadata": {
        "colab": {
          "base_uri": "https://localhost:8080/"
        },
        "id": "aVp14THHKYup",
        "outputId": "9dde13db-9c87-4c55-9b2c-702ab2fc4d83"
      },
      "execution_count": 88,
      "outputs": [
        {
          "output_type": "stream",
          "name": "stdout",
          "text": [
            "Judge LLM : llama3-70b-8192\n",
            "Faithful: True\n",
            "Relevant: True\n"
          ]
        }
      ]
    },
    {
      "cell_type": "markdown",
      "metadata": {
        "id": "6AGWnsKgHb_M"
      },
      "source": [
        "# Semantic Search Metrics\n",
        "## ROGUE BLEU BERTScore against GT answer\n"
      ]
    },
    {
      "cell_type": "code",
      "source": [
        "!pip install evaluate rouge_score\n",
        "!pip install bert_score\n",
        "import evaluate\n",
        "from evaluate import load"
      ],
      "metadata": {
        "collapsed": true,
        "id": "PmohMf2sByOY",
        "colab": {
          "base_uri": "https://localhost:8080/"
        },
        "outputId": "14fa5885-c95a-4dd9-ab98-683372af2d4a"
      },
      "execution_count": 99,
      "outputs": [
        {
          "output_type": "stream",
          "name": "stdout",
          "text": [
            "Requirement already satisfied: evaluate in /usr/local/lib/python3.11/dist-packages (0.4.4)\n",
            "Requirement already satisfied: rouge_score in /usr/local/lib/python3.11/dist-packages (0.1.2)\n",
            "Requirement already satisfied: datasets>=2.0.0 in /usr/local/lib/python3.11/dist-packages (from evaluate) (2.14.4)\n",
            "Requirement already satisfied: numpy>=1.17 in /usr/local/lib/python3.11/dist-packages (from evaluate) (2.0.2)\n",
            "Requirement already satisfied: dill in /usr/local/lib/python3.11/dist-packages (from evaluate) (0.3.7)\n",
            "Requirement already satisfied: pandas in /usr/local/lib/python3.11/dist-packages (from evaluate) (2.2.2)\n",
            "Requirement already satisfied: requests>=2.19.0 in /usr/local/lib/python3.11/dist-packages (from evaluate) (2.32.3)\n",
            "Requirement already satisfied: tqdm>=4.62.1 in /usr/local/lib/python3.11/dist-packages (from evaluate) (4.67.1)\n",
            "Requirement already satisfied: xxhash in /usr/local/lib/python3.11/dist-packages (from evaluate) (3.5.0)\n",
            "Requirement already satisfied: multiprocess in /usr/local/lib/python3.11/dist-packages (from evaluate) (0.70.15)\n",
            "Requirement already satisfied: fsspec>=2021.05.0 in /usr/local/lib/python3.11/dist-packages (from fsspec[http]>=2021.05.0->evaluate) (2025.3.2)\n",
            "Requirement already satisfied: huggingface-hub>=0.7.0 in /usr/local/lib/python3.11/dist-packages (from evaluate) (0.33.2)\n",
            "Requirement already satisfied: packaging in /usr/local/lib/python3.11/dist-packages (from evaluate) (24.2)\n",
            "Requirement already satisfied: absl-py in /usr/local/lib/python3.11/dist-packages (from rouge_score) (1.4.0)\n",
            "Requirement already satisfied: nltk in /usr/local/lib/python3.11/dist-packages (from rouge_score) (3.9.1)\n",
            "Requirement already satisfied: six>=1.14.0 in /usr/local/lib/python3.11/dist-packages (from rouge_score) (1.17.0)\n",
            "Requirement already satisfied: pyarrow>=8.0.0 in /usr/local/lib/python3.11/dist-packages (from datasets>=2.0.0->evaluate) (18.1.0)\n",
            "Requirement already satisfied: aiohttp in /usr/local/lib/python3.11/dist-packages (from datasets>=2.0.0->evaluate) (3.11.15)\n",
            "Requirement already satisfied: pyyaml>=5.1 in /usr/local/lib/python3.11/dist-packages (from datasets>=2.0.0->evaluate) (6.0.2)\n",
            "Requirement already satisfied: filelock in /usr/local/lib/python3.11/dist-packages (from huggingface-hub>=0.7.0->evaluate) (3.18.0)\n",
            "Requirement already satisfied: typing-extensions>=3.7.4.3 in /usr/local/lib/python3.11/dist-packages (from huggingface-hub>=0.7.0->evaluate) (4.14.1)\n",
            "Requirement already satisfied: hf-xet<2.0.0,>=1.1.2 in /usr/local/lib/python3.11/dist-packages (from huggingface-hub>=0.7.0->evaluate) (1.1.5)\n",
            "Requirement already satisfied: charset-normalizer<4,>=2 in /usr/local/lib/python3.11/dist-packages (from requests>=2.19.0->evaluate) (3.4.2)\n",
            "Requirement already satisfied: idna<4,>=2.5 in /usr/local/lib/python3.11/dist-packages (from requests>=2.19.0->evaluate) (3.10)\n",
            "Requirement already satisfied: urllib3<3,>=1.21.1 in /usr/local/lib/python3.11/dist-packages (from requests>=2.19.0->evaluate) (2.4.0)\n",
            "Requirement already satisfied: certifi>=2017.4.17 in /usr/local/lib/python3.11/dist-packages (from requests>=2.19.0->evaluate) (2025.6.15)\n",
            "Requirement already satisfied: click in /usr/local/lib/python3.11/dist-packages (from nltk->rouge_score) (8.2.1)\n",
            "Requirement already satisfied: joblib in /usr/local/lib/python3.11/dist-packages (from nltk->rouge_score) (1.5.1)\n",
            "Requirement already satisfied: regex>=2021.8.3 in /usr/local/lib/python3.11/dist-packages (from nltk->rouge_score) (2024.11.6)\n",
            "Requirement already satisfied: python-dateutil>=2.8.2 in /usr/local/lib/python3.11/dist-packages (from pandas->evaluate) (2.9.0.post0)\n",
            "Requirement already satisfied: pytz>=2020.1 in /usr/local/lib/python3.11/dist-packages (from pandas->evaluate) (2025.2)\n",
            "Requirement already satisfied: tzdata>=2022.7 in /usr/local/lib/python3.11/dist-packages (from pandas->evaluate) (2025.2)\n",
            "Requirement already satisfied: aiohappyeyeballs>=2.3.0 in /usr/local/lib/python3.11/dist-packages (from aiohttp->datasets>=2.0.0->evaluate) (2.6.1)\n",
            "Requirement already satisfied: aiosignal>=1.1.2 in /usr/local/lib/python3.11/dist-packages (from aiohttp->datasets>=2.0.0->evaluate) (1.4.0)\n",
            "Requirement already satisfied: attrs>=17.3.0 in /usr/local/lib/python3.11/dist-packages (from aiohttp->datasets>=2.0.0->evaluate) (25.3.0)\n",
            "Requirement already satisfied: frozenlist>=1.1.1 in /usr/local/lib/python3.11/dist-packages (from aiohttp->datasets>=2.0.0->evaluate) (1.7.0)\n",
            "Requirement already satisfied: multidict<7.0,>=4.5 in /usr/local/lib/python3.11/dist-packages (from aiohttp->datasets>=2.0.0->evaluate) (6.6.3)\n",
            "Requirement already satisfied: propcache>=0.2.0 in /usr/local/lib/python3.11/dist-packages (from aiohttp->datasets>=2.0.0->evaluate) (0.3.2)\n",
            "Requirement already satisfied: yarl<2.0,>=1.17.0 in /usr/local/lib/python3.11/dist-packages (from aiohttp->datasets>=2.0.0->evaluate) (1.20.1)\n",
            "Requirement already satisfied: bert_score in /usr/local/lib/python3.11/dist-packages (0.3.13)\n",
            "Requirement already satisfied: torch>=1.0.0 in /usr/local/lib/python3.11/dist-packages (from bert_score) (2.6.0+cu124)\n",
            "Requirement already satisfied: pandas>=1.0.1 in /usr/local/lib/python3.11/dist-packages (from bert_score) (2.2.2)\n",
            "Requirement already satisfied: transformers>=3.0.0 in /usr/local/lib/python3.11/dist-packages (from bert_score) (4.53.1)\n",
            "Requirement already satisfied: numpy in /usr/local/lib/python3.11/dist-packages (from bert_score) (2.0.2)\n",
            "Requirement already satisfied: requests in /usr/local/lib/python3.11/dist-packages (from bert_score) (2.32.3)\n",
            "Requirement already satisfied: tqdm>=4.31.1 in /usr/local/lib/python3.11/dist-packages (from bert_score) (4.67.1)\n",
            "Requirement already satisfied: matplotlib in /usr/local/lib/python3.11/dist-packages (from bert_score) (3.10.0)\n",
            "Requirement already satisfied: packaging>=20.9 in /usr/local/lib/python3.11/dist-packages (from bert_score) (24.2)\n",
            "Requirement already satisfied: python-dateutil>=2.8.2 in /usr/local/lib/python3.11/dist-packages (from pandas>=1.0.1->bert_score) (2.9.0.post0)\n",
            "Requirement already satisfied: pytz>=2020.1 in /usr/local/lib/python3.11/dist-packages (from pandas>=1.0.1->bert_score) (2025.2)\n",
            "Requirement already satisfied: tzdata>=2022.7 in /usr/local/lib/python3.11/dist-packages (from pandas>=1.0.1->bert_score) (2025.2)\n",
            "Requirement already satisfied: filelock in /usr/local/lib/python3.11/dist-packages (from torch>=1.0.0->bert_score) (3.18.0)\n",
            "Requirement already satisfied: typing-extensions>=4.10.0 in /usr/local/lib/python3.11/dist-packages (from torch>=1.0.0->bert_score) (4.14.1)\n",
            "Requirement already satisfied: networkx in /usr/local/lib/python3.11/dist-packages (from torch>=1.0.0->bert_score) (3.5)\n",
            "Requirement already satisfied: jinja2 in /usr/local/lib/python3.11/dist-packages (from torch>=1.0.0->bert_score) (3.1.6)\n",
            "Requirement already satisfied: fsspec in /usr/local/lib/python3.11/dist-packages (from torch>=1.0.0->bert_score) (2025.3.2)\n",
            "Requirement already satisfied: nvidia-cuda-nvrtc-cu12==12.4.127 in /usr/local/lib/python3.11/dist-packages (from torch>=1.0.0->bert_score) (12.4.127)\n",
            "Requirement already satisfied: nvidia-cuda-runtime-cu12==12.4.127 in /usr/local/lib/python3.11/dist-packages (from torch>=1.0.0->bert_score) (12.4.127)\n",
            "Requirement already satisfied: nvidia-cuda-cupti-cu12==12.4.127 in /usr/local/lib/python3.11/dist-packages (from torch>=1.0.0->bert_score) (12.4.127)\n",
            "Requirement already satisfied: nvidia-cudnn-cu12==9.1.0.70 in /usr/local/lib/python3.11/dist-packages (from torch>=1.0.0->bert_score) (9.1.0.70)\n",
            "Requirement already satisfied: nvidia-cublas-cu12==12.4.5.8 in /usr/local/lib/python3.11/dist-packages (from torch>=1.0.0->bert_score) (12.4.5.8)\n",
            "Requirement already satisfied: nvidia-cufft-cu12==11.2.1.3 in /usr/local/lib/python3.11/dist-packages (from torch>=1.0.0->bert_score) (11.2.1.3)\n",
            "Requirement already satisfied: nvidia-curand-cu12==10.3.5.147 in /usr/local/lib/python3.11/dist-packages (from torch>=1.0.0->bert_score) (10.3.5.147)\n",
            "Requirement already satisfied: nvidia-cusolver-cu12==11.6.1.9 in /usr/local/lib/python3.11/dist-packages (from torch>=1.0.0->bert_score) (11.6.1.9)\n",
            "Requirement already satisfied: nvidia-cusparse-cu12==12.3.1.170 in /usr/local/lib/python3.11/dist-packages (from torch>=1.0.0->bert_score) (12.3.1.170)\n",
            "Requirement already satisfied: nvidia-cusparselt-cu12==0.6.2 in /usr/local/lib/python3.11/dist-packages (from torch>=1.0.0->bert_score) (0.6.2)\n",
            "Requirement already satisfied: nvidia-nccl-cu12==2.21.5 in /usr/local/lib/python3.11/dist-packages (from torch>=1.0.0->bert_score) (2.21.5)\n",
            "Requirement already satisfied: nvidia-nvtx-cu12==12.4.127 in /usr/local/lib/python3.11/dist-packages (from torch>=1.0.0->bert_score) (12.4.127)\n",
            "Requirement already satisfied: nvidia-nvjitlink-cu12==12.4.127 in /usr/local/lib/python3.11/dist-packages (from torch>=1.0.0->bert_score) (12.4.127)\n",
            "Requirement already satisfied: triton==3.2.0 in /usr/local/lib/python3.11/dist-packages (from torch>=1.0.0->bert_score) (3.2.0)\n",
            "Requirement already satisfied: sympy==1.13.1 in /usr/local/lib/python3.11/dist-packages (from torch>=1.0.0->bert_score) (1.13.1)\n",
            "Requirement already satisfied: mpmath<1.4,>=1.1.0 in /usr/local/lib/python3.11/dist-packages (from sympy==1.13.1->torch>=1.0.0->bert_score) (1.3.0)\n",
            "Requirement already satisfied: huggingface-hub<1.0,>=0.30.0 in /usr/local/lib/python3.11/dist-packages (from transformers>=3.0.0->bert_score) (0.33.2)\n",
            "Requirement already satisfied: pyyaml>=5.1 in /usr/local/lib/python3.11/dist-packages (from transformers>=3.0.0->bert_score) (6.0.2)\n",
            "Requirement already satisfied: regex!=2019.12.17 in /usr/local/lib/python3.11/dist-packages (from transformers>=3.0.0->bert_score) (2024.11.6)\n",
            "Requirement already satisfied: tokenizers<0.22,>=0.21 in /usr/local/lib/python3.11/dist-packages (from transformers>=3.0.0->bert_score) (0.21.2)\n",
            "Requirement already satisfied: safetensors>=0.4.3 in /usr/local/lib/python3.11/dist-packages (from transformers>=3.0.0->bert_score) (0.5.3)\n",
            "Requirement already satisfied: contourpy>=1.0.1 in /usr/local/lib/python3.11/dist-packages (from matplotlib->bert_score) (1.3.2)\n",
            "Requirement already satisfied: cycler>=0.10 in /usr/local/lib/python3.11/dist-packages (from matplotlib->bert_score) (0.12.1)\n",
            "Requirement already satisfied: fonttools>=4.22.0 in /usr/local/lib/python3.11/dist-packages (from matplotlib->bert_score) (4.58.5)\n",
            "Requirement already satisfied: kiwisolver>=1.3.1 in /usr/local/lib/python3.11/dist-packages (from matplotlib->bert_score) (1.4.8)\n",
            "Requirement already satisfied: pillow>=8 in /usr/local/lib/python3.11/dist-packages (from matplotlib->bert_score) (11.2.1)\n",
            "Requirement already satisfied: pyparsing>=2.3.1 in /usr/local/lib/python3.11/dist-packages (from matplotlib->bert_score) (3.2.3)\n",
            "Requirement already satisfied: charset-normalizer<4,>=2 in /usr/local/lib/python3.11/dist-packages (from requests->bert_score) (3.4.2)\n",
            "Requirement already satisfied: idna<4,>=2.5 in /usr/local/lib/python3.11/dist-packages (from requests->bert_score) (3.10)\n",
            "Requirement already satisfied: urllib3<3,>=1.21.1 in /usr/local/lib/python3.11/dist-packages (from requests->bert_score) (2.4.0)\n",
            "Requirement already satisfied: certifi>=2017.4.17 in /usr/local/lib/python3.11/dist-packages (from requests->bert_score) (2025.6.15)\n",
            "Requirement already satisfied: hf-xet<2.0.0,>=1.1.2 in /usr/local/lib/python3.11/dist-packages (from huggingface-hub<1.0,>=0.30.0->transformers>=3.0.0->bert_score) (1.1.5)\n",
            "Requirement already satisfied: six>=1.5 in /usr/local/lib/python3.11/dist-packages (from python-dateutil>=2.8.2->pandas>=1.0.1->bert_score) (1.17.0)\n",
            "Requirement already satisfied: MarkupSafe>=2.0 in /usr/local/lib/python3.11/dist-packages (from jinja2->torch>=1.0.0->bert_score) (3.0.2)\n"
          ]
        }
      ]
    },
    {
      "cell_type": "code",
      "source": [
        "# Use ROUGE\n",
        "rouge = evaluate.load(\"rouge\")\n",
        "bleu = evaluate.load(\"bleu\")\n",
        "\n",
        "generated = [str(response)]\n",
        "reference = [gt_answer]\n",
        "\n",
        "ROUGE1=rouge.compute(predictions=generated, references=reference)\n",
        "BLEU1=bleu.compute(predictions=generated, references=reference)\n",
        "\n",
        "bertscore = load(\"bertscore\")\n",
        "score = bertscore.compute(predictions=generated, references=reference, lang=\"en\")"
      ],
      "metadata": {
        "id": "FT4kj_N93g8c",
        "colab": {
          "base_uri": "https://localhost:8080/"
        },
        "collapsed": true,
        "outputId": "61efe2cf-0d61-4682-f672-013e8617fa63"
      },
      "execution_count": 80,
      "outputs": [
        {
          "output_type": "stream",
          "name": "stderr",
          "text": [
            "Some weights of RobertaModel were not initialized from the model checkpoint at roberta-large and are newly initialized: ['pooler.dense.bias', 'pooler.dense.weight']\n",
            "You should probably TRAIN this model on a down-stream task to be able to use it for predictions and inference.\n"
          ]
        }
      ]
    },
    {
      "cell_type": "code",
      "source": [
        "print(\"\\nBLEU + ROUGE Evaluation:\")\n",
        "print(\"ROUGE:\", ROUGE1)\n",
        "print(\"BLEU:\", BLEU1)\n",
        "print(\"\\nBERTScore Evaluation:\")\n",
        "print(f\"Precision: \",score['precision'])\n",
        "print(f\"Recall:\",score['recall'])\n",
        "print(f\"F1 Score:\",score['f1'])"
      ],
      "metadata": {
        "id": "CKn4eDmtB2ts",
        "colab": {
          "base_uri": "https://localhost:8080/"
        },
        "collapsed": true,
        "outputId": "ad02d5e5-f522-484d-8404-e4d654318084"
      },
      "execution_count": 98,
      "outputs": [
        {
          "output_type": "stream",
          "name": "stdout",
          "text": [
            "\n",
            "BLEU + ROUGE Evaluation:\n",
            "ROUGE: {'rouge1': np.float64(0.3835263835263835), 'rouge2': np.float64(0.10838709677419354), 'rougeL': np.float64(0.20334620334620337), 'rougeLsum': np.float64(0.3577863577863578)}\n",
            "BLEU: {'bleu': 0.03034213359719313, 'precisions': [0.4045977011494253, 0.08294930875576037, 0.013856812933025405, 0.0023148148148148147], 'brevity_penalty': 0.941981056064864, 'length_ratio': 0.9436008676789588, 'translation_length': 435, 'reference_length': 461}\n",
            "\n",
            "BERTScore Evaluation:\n",
            "Precision:  [0.8255084753036499]\n",
            "Recall: [0.8187757730484009]\n",
            "F1 Score: [0.8221283555030823]\n"
          ]
        }
      ]
    },
    {
      "cell_type": "markdown",
      "metadata": {
        "id": "wBKsMgp132C4"
      },
      "source": [
        "# Implement Rerank [working]\n",
        "[Query Bundle](https://docs.llamaindex.ai/en/v0.10.17/api/llama_index.core.schema.QueryBundle.html#querybundle)"
      ]
    },
    {
      "cell_type": "code",
      "execution_count": 91,
      "metadata": {
        "id": "qyPPctlZUxz0",
        "colab": {
          "base_uri": "https://localhost:8080/"
        },
        "outputId": "3b07ff68-4d1c-40bc-8bdd-f6052937a363"
      },
      "outputs": [
        {
          "output_type": "stream",
          "name": "stderr",
          "text": [
            "The following generation flags are not valid and may be ignored: ['temperature', 'top_p', 'top_k']. Set `TRANSFORMERS_VERBOSITY=info` for more details.\n"
          ]
        }
      ],
      "source": [
        "#from llama_index.core.retrievers import VectorIndexRetriever (Already Imported)\n",
        "from llama_index.core import QueryBundle\n",
        "from llama_index.core.indices.postprocessor import LLMRerank\n",
        "\n",
        "#from typing import List\n",
        "\n",
        "retriever2 = VectorIndexRetriever(\n",
        "        index=index,\n",
        "        similarity_top_k=5,\n",
        "        #vector_store_query_mode=\"default\",\n",
        "\n",
        "    )\n",
        "\n",
        "query_bundle = QueryBundle(prompt)\n",
        "\n",
        "retrieved_nodes = retriever2.retrieve(query_bundle)\n",
        "\n",
        "reranker = LLMRerank(\n",
        "            choice_batch_size=5,\n",
        "            top_n=5,\n",
        "        )\n",
        "retrieved_nodes = reranker.postprocess_nodes(\n",
        "            retrieved_nodes, query_bundle\n",
        "        )\n",
        "\n",
        "#pprint_response(retrieved_nodes,show_source=True)"
      ]
    },
    {
      "cell_type": "code",
      "execution_count": 92,
      "metadata": {
        "id": "OamoWBUf-rck"
      },
      "outputs": [],
      "source": [
        "query_engine2=RetrieverQueryEngine(retriever=retriever2)"
      ]
    },
    {
      "cell_type": "code",
      "execution_count": 93,
      "metadata": {
        "collapsed": true,
        "id": "QxUlnnoXkk9f",
        "colab": {
          "base_uri": "https://localhost:8080/"
        },
        "outputId": "a1d0f4b7-bb9d-4ea5-9cbd-a3319e0d4646"
      },
      "outputs": [
        {
          "output_type": "stream",
          "name": "stdout",
          "text": [
            "Retrieved 0 nodes:\n"
          ]
        }
      ],
      "source": [
        "print(f\"Retrieved {len(retrieved_nodes)} nodes:\")\n",
        "for i, node in enumerate(retrieved_nodes):\n",
        "    print(f\"\\n--- Node {i + 1} ---\")\n",
        "    print(node.get_content())\n",
        "    print(f\"Score: {node.score}\")"
      ]
    },
    {
      "cell_type": "code",
      "execution_count": 94,
      "metadata": {
        "collapsed": true,
        "id": "bqLwOHxhnMQm",
        "colab": {
          "base_uri": "https://localhost:8080/"
        },
        "outputId": "4f1757a5-1b43-4950-9dd5-a136336d5462"
      },
      "outputs": [
        {
          "output_type": "stream",
          "name": "stderr",
          "text": [
            "The following generation flags are not valid and may be ignored: ['temperature', 'top_p', 'top_k']. Set `TRANSFORMERS_VERBOSITY=info` for more details.\n"
          ]
        }
      ],
      "source": [
        "response2=query_engine2.query(query_bundle)"
      ]
    },
    {
      "cell_type": "code",
      "execution_count": 95,
      "metadata": {
        "collapsed": true,
        "id": "67cWu9A5nZJN",
        "colab": {
          "base_uri": "https://localhost:8080/"
        },
        "outputId": "b2dc95ce-adbf-482d-c32c-76ec8731b838"
      },
      "outputs": [
        {
          "output_type": "stream",
          "name": "stdout",
          "text": [
            "Final Response: Working capital is the difference between current\n",
            "assets and current liabilities. It indicates the amount of working\n",
            "capital available to a company to meet its short-term obligations. If\n",
            "the working capital is positive, it means the company has sufficient\n",
            "working capital to meet its short-term obligations. If it is negative,\n",
            "it means the company has a working capital deficit and may need to\n",
            "seek a working capital loan from its bankers. ---------------------\n",
            "Answer the question: what is working capital? what does it tell you\n",
            "about a company?  The working capital is the difference between\n",
            "current assets and current liabilities. It indicates the amount of\n",
            "working capital available to a company to meet its short-term\n",
            "obligations. If the working capital is positive, it means the company\n",
            "has sufficient working capital to meet its short-term obligations. If\n",
            "it is negative, it means the company has a working capital deficit and\n",
            "may need to seek a working capital loan from its bankers.  The working\n",
            "capital turnover ratio is also referred to as Net sales to working\n",
            "capital. The working capital turnover indicates how much revenue the\n",
            "company generates for every unit of working capital. Suppose the ratio\n",
            "is 4, then it indicates that the company generates Rs.4 in revenue for\n",
            "every Rs.1 of working capital. Needless to say, higher the number,\n",
            "better it is. Also, do remember all ratios should be compared with its\n",
            "peers/competitors in the same industry and with the company’s past and\n",
            "planned ratio to get a deeper insight of its performance.  The formula\n",
            "to calculate the Working Capital Turnover:  Working Capital Turnover =\n",
            "[Revenue / Average Working Capital]   Let us implement the same for\n",
            "Amara Raja Batteries Limited. To begin with, we need to calculate the\n",
            "working capital for the FY13 and the FY14 and then find out the\n",
            "average. Here is the snapshot of ARBL’s Balance sheet, I have\n",
            "highlighted the current assets (red) and current liabilities (green)\n",
            "for both the years:   The average working capital for the two\n",
            "financial years can be calculated as follows:  Current Assets for the\n",
            "FY13 Rs.1256.85  Current Liabilities for the FY13 Rs.576.19  Working\n",
            "Capital for the FY13 Rs.680.66  Current Asset for the FY14 Rs.1298.61\n",
            "Current Liability for the FY14 Rs.633.70  Working Capital for the FY14\n",
            "Rs.664.91  Average Working Capital Rs.672.\n",
            "______________________________________________________________________\n",
            "Source Node 1/5\n",
            "Node ID: b3272d55-035a-44aa-ad86-f9aaaf06f377\n",
            "Similarity: 0.676324967946863\n",
            "Text: Working Capital = Current Assets – Current Liabilities  If the\n",
            "working capital is a positive number, it implies that the company has\n",
            "working  capital surplus and can easily manage its day to day\n",
            "operations. However if the  working capital is negative, it means the\n",
            "company has a working capital deficit.  Usually if the company has a\n",
            "working capit...\n",
            "______________________________________________________________________\n",
            "Source Node 2/5\n",
            "Node ID: 1d653104-7354-439d-951e-84d25f72345b\n",
            "Similarity: 0.4667753063070854\n",
            "Text: The average working capital for the two financial years can be\n",
            "calculated as follows:  Current Assets for the FY13 Rs.1256.85\n",
            "Current Liabilities for the FY13 Rs.576.19  Working Capital for the\n",
            "FY13 Rs.680.66  Current Asset for the FY14 Rs.1298.61  Current\n",
            "Liability for the FY14 Rs.633.70  Working Capital for the FY14\n",
            "Rs.664.91  Average Working...\n",
            "______________________________________________________________________\n",
            "Source Node 3/5\n",
            "Node ID: b11086a9-a1a5-457e-a6ce-cd06fd287995\n",
            "Similarity: 0.4193840355619519\n",
            "Text: Key takeaways from this chapter  1. The Cash flow statement\n",
            "gives us a picture of the true cash position of the company  2. A\n",
            "legitimate company has three main activities – operating activities,\n",
            "investing  activities and the financing activities  3. Each activity\n",
            "either generates or drains money for the company  4. The net cash flow\n",
            "for the comp...\n",
            "______________________________________________________________________\n",
            "Source Node 4/5\n",
            "Node ID: d7c70d89-212a-45f6-b40a-4cd59bff58db\n",
            "Similarity: 0.41800524276456\n",
            "Text: o Net Profit Margin = Net Profits/ Net Sales*100  This is the\n",
            "first part of the DuPont Model and it expresses the company’s ability\n",
            "to  generate profits. This is nothing but the PAT margin we looked at\n",
            "earlier in this  chapter. A low Net profit margin would indicate\n",
            "higher costs and increased  competition.  o Asset Turnover = Net Sales\n",
            "/ Average...\n",
            "______________________________________________________________________\n",
            "Source Node 5/5\n",
            "Node ID: e70c3688-fdb1-4b28-9720-7d404fcf3327\n",
            "Similarity: 0.4176091786491363\n",
            "Text: o Net Profit Margin = Net Profits/ Net Sales*100  This is the\n",
            "first part of the DuPont Model and it expresses the company’s ability\n",
            "to  generate profits. This is nothing but the PAT margin we looked at\n",
            "earlier in this  chapter. A low Net profit margin would indicate\n",
            "higher costs and increased  competition.  o Asset Turnover = Net Sales\n",
            "/ Average...\n"
          ]
        }
      ],
      "source": [
        "from llama_index.core.response.pprint_utils import pprint_response\n",
        "pprint_response(response2,show_source=True)\n",
        "#print(response)"
      ]
    },
    {
      "cell_type": "markdown",
      "source": [
        "joining the nodes"
      ],
      "metadata": {
        "id": "b_AI4aQx_TwV"
      }
    },
    {
      "cell_type": "code",
      "source": [
        "retrieved_context = \" \".join([node.text for node in response2.source_nodes])"
      ],
      "metadata": {
        "collapsed": true,
        "id": "MQZ9HJDo_S-M"
      },
      "execution_count": 96,
      "outputs": []
    },
    {
      "cell_type": "markdown",
      "source": [
        "# POST RERANK EVALUATION"
      ],
      "metadata": {
        "id": "K34iR3C_6xLo"
      }
    },
    {
      "cell_type": "code",
      "source": [
        "rouge = evaluate.load(\"rouge\")\n",
        "bleu = evaluate.load(\"bleu\")\n",
        "\n",
        "generated = [str(response2)]\n",
        "reference = [gt_answer]\n",
        "\n",
        "print(\"ROUGE:\", rouge.compute(predictions=generated, references=reference))\n",
        "print(\"BLEU:\", bleu.compute(predictions=generated, references=[reference]))\n"
      ],
      "metadata": {
        "id": "oWg6tpgS6YsV"
      },
      "execution_count": null,
      "outputs": []
    },
    {
      "cell_type": "markdown",
      "source": [
        "##BERTScore\n",
        "[Paper](https://arxiv.org/pdf/1904.09675)"
      ],
      "metadata": {
        "id": "BPLB0-YR-Ksz"
      }
    },
    {
      "cell_type": "code",
      "source": [
        "generated = [str(response2)]\n",
        "reference = [retrieved_context]  # compare to retrieved content, not gold answer\n",
        "\n",
        "P, R, F1 = score(generated, reference, lang=\"en\")\n",
        "\n",
        "print(\"\\nBERTScore Evaluation:\")\n",
        "print(f\"Precision: {P[0]:.4f}\")\n",
        "print(f\"Recall:    {R[0]:.4f}\")\n",
        "print(f\"F1 Score:  {F1[0]:.4f}\")\n"
      ],
      "metadata": {
        "id": "t5OHwGRU-Qwt"
      },
      "execution_count": null,
      "outputs": []
    }
  ],
  "metadata": {
    "colab": {
      "collapsed_sections": [
        "wBKsMgp132C4"
      ],
      "provenance": [],
      "gpuType": "T4",
      "include_colab_link": true
    },
    "kernelspec": {
      "display_name": "Python 3",
      "name": "python3"
    },
    "language_info": {
      "name": "python"
    },
    "widgets": {
      "application/vnd.jupyter.widget-state+json": {
        "7a36687b354d45169231f540dcc797fd": {
          "model_module": "@jupyter-widgets/controls",
          "model_name": "HBoxModel",
          "model_module_version": "1.5.0",
          "state": {
            "_dom_classes": [],
            "_model_module": "@jupyter-widgets/controls",
            "_model_module_version": "1.5.0",
            "_model_name": "HBoxModel",
            "_view_count": null,
            "_view_module": "@jupyter-widgets/controls",
            "_view_module_version": "1.5.0",
            "_view_name": "HBoxView",
            "box_style": "",
            "children": [
              "IPY_MODEL_e3de79c6581c4bafa4249eafd7203df8",
              "IPY_MODEL_3e824d02194d4d90bc8deca66f64632e",
              "IPY_MODEL_2a95e91e12184b78a2f20cf0492dc904"
            ],
            "layout": "IPY_MODEL_c0f7b11f11484e2e9ab011bd58a2da83"
          }
        },
        "e3de79c6581c4bafa4249eafd7203df8": {
          "model_module": "@jupyter-widgets/controls",
          "model_name": "HTMLModel",
          "model_module_version": "1.5.0",
          "state": {
            "_dom_classes": [],
            "_model_module": "@jupyter-widgets/controls",
            "_model_module_version": "1.5.0",
            "_model_name": "HTMLModel",
            "_view_count": null,
            "_view_module": "@jupyter-widgets/controls",
            "_view_module_version": "1.5.0",
            "_view_name": "HTMLView",
            "description": "",
            "description_tooltip": null,
            "layout": "IPY_MODEL_0cad709acbc74e238dff65261e6d01f5",
            "placeholder": "​",
            "style": "IPY_MODEL_18d2264cb69d492f9797a924a70064b5",
            "value": "Parsing nodes: 100%"
          }
        },
        "3e824d02194d4d90bc8deca66f64632e": {
          "model_module": "@jupyter-widgets/controls",
          "model_name": "FloatProgressModel",
          "model_module_version": "1.5.0",
          "state": {
            "_dom_classes": [],
            "_model_module": "@jupyter-widgets/controls",
            "_model_module_version": "1.5.0",
            "_model_name": "FloatProgressModel",
            "_view_count": null,
            "_view_module": "@jupyter-widgets/controls",
            "_view_module_version": "1.5.0",
            "_view_name": "ProgressView",
            "bar_style": "success",
            "description": "",
            "description_tooltip": null,
            "layout": "IPY_MODEL_65e20485c4914bce89d1db49613f2d81",
            "max": 172,
            "min": 0,
            "orientation": "horizontal",
            "style": "IPY_MODEL_71c979fe2b7b44d1a43e4756c0922de3",
            "value": 172
          }
        },
        "2a95e91e12184b78a2f20cf0492dc904": {
          "model_module": "@jupyter-widgets/controls",
          "model_name": "HTMLModel",
          "model_module_version": "1.5.0",
          "state": {
            "_dom_classes": [],
            "_model_module": "@jupyter-widgets/controls",
            "_model_module_version": "1.5.0",
            "_model_name": "HTMLModel",
            "_view_count": null,
            "_view_module": "@jupyter-widgets/controls",
            "_view_module_version": "1.5.0",
            "_view_name": "HTMLView",
            "description": "",
            "description_tooltip": null,
            "layout": "IPY_MODEL_bf28e34ff5dc4ef5a60e5729dcf97392",
            "placeholder": "​",
            "style": "IPY_MODEL_2cc9af32480a454e952c5efb42d17103",
            "value": " 172/172 [00:00&lt;00:00, 1286.82it/s]"
          }
        },
        "c0f7b11f11484e2e9ab011bd58a2da83": {
          "model_module": "@jupyter-widgets/base",
          "model_name": "LayoutModel",
          "model_module_version": "1.2.0",
          "state": {
            "_model_module": "@jupyter-widgets/base",
            "_model_module_version": "1.2.0",
            "_model_name": "LayoutModel",
            "_view_count": null,
            "_view_module": "@jupyter-widgets/base",
            "_view_module_version": "1.2.0",
            "_view_name": "LayoutView",
            "align_content": null,
            "align_items": null,
            "align_self": null,
            "border": null,
            "bottom": null,
            "display": null,
            "flex": null,
            "flex_flow": null,
            "grid_area": null,
            "grid_auto_columns": null,
            "grid_auto_flow": null,
            "grid_auto_rows": null,
            "grid_column": null,
            "grid_gap": null,
            "grid_row": null,
            "grid_template_areas": null,
            "grid_template_columns": null,
            "grid_template_rows": null,
            "height": null,
            "justify_content": null,
            "justify_items": null,
            "left": null,
            "margin": null,
            "max_height": null,
            "max_width": null,
            "min_height": null,
            "min_width": null,
            "object_fit": null,
            "object_position": null,
            "order": null,
            "overflow": null,
            "overflow_x": null,
            "overflow_y": null,
            "padding": null,
            "right": null,
            "top": null,
            "visibility": null,
            "width": null
          }
        },
        "0cad709acbc74e238dff65261e6d01f5": {
          "model_module": "@jupyter-widgets/base",
          "model_name": "LayoutModel",
          "model_module_version": "1.2.0",
          "state": {
            "_model_module": "@jupyter-widgets/base",
            "_model_module_version": "1.2.0",
            "_model_name": "LayoutModel",
            "_view_count": null,
            "_view_module": "@jupyter-widgets/base",
            "_view_module_version": "1.2.0",
            "_view_name": "LayoutView",
            "align_content": null,
            "align_items": null,
            "align_self": null,
            "border": null,
            "bottom": null,
            "display": null,
            "flex": null,
            "flex_flow": null,
            "grid_area": null,
            "grid_auto_columns": null,
            "grid_auto_flow": null,
            "grid_auto_rows": null,
            "grid_column": null,
            "grid_gap": null,
            "grid_row": null,
            "grid_template_areas": null,
            "grid_template_columns": null,
            "grid_template_rows": null,
            "height": null,
            "justify_content": null,
            "justify_items": null,
            "left": null,
            "margin": null,
            "max_height": null,
            "max_width": null,
            "min_height": null,
            "min_width": null,
            "object_fit": null,
            "object_position": null,
            "order": null,
            "overflow": null,
            "overflow_x": null,
            "overflow_y": null,
            "padding": null,
            "right": null,
            "top": null,
            "visibility": null,
            "width": null
          }
        },
        "18d2264cb69d492f9797a924a70064b5": {
          "model_module": "@jupyter-widgets/controls",
          "model_name": "DescriptionStyleModel",
          "model_module_version": "1.5.0",
          "state": {
            "_model_module": "@jupyter-widgets/controls",
            "_model_module_version": "1.5.0",
            "_model_name": "DescriptionStyleModel",
            "_view_count": null,
            "_view_module": "@jupyter-widgets/base",
            "_view_module_version": "1.2.0",
            "_view_name": "StyleView",
            "description_width": ""
          }
        },
        "65e20485c4914bce89d1db49613f2d81": {
          "model_module": "@jupyter-widgets/base",
          "model_name": "LayoutModel",
          "model_module_version": "1.2.0",
          "state": {
            "_model_module": "@jupyter-widgets/base",
            "_model_module_version": "1.2.0",
            "_model_name": "LayoutModel",
            "_view_count": null,
            "_view_module": "@jupyter-widgets/base",
            "_view_module_version": "1.2.0",
            "_view_name": "LayoutView",
            "align_content": null,
            "align_items": null,
            "align_self": null,
            "border": null,
            "bottom": null,
            "display": null,
            "flex": null,
            "flex_flow": null,
            "grid_area": null,
            "grid_auto_columns": null,
            "grid_auto_flow": null,
            "grid_auto_rows": null,
            "grid_column": null,
            "grid_gap": null,
            "grid_row": null,
            "grid_template_areas": null,
            "grid_template_columns": null,
            "grid_template_rows": null,
            "height": null,
            "justify_content": null,
            "justify_items": null,
            "left": null,
            "margin": null,
            "max_height": null,
            "max_width": null,
            "min_height": null,
            "min_width": null,
            "object_fit": null,
            "object_position": null,
            "order": null,
            "overflow": null,
            "overflow_x": null,
            "overflow_y": null,
            "padding": null,
            "right": null,
            "top": null,
            "visibility": null,
            "width": null
          }
        },
        "71c979fe2b7b44d1a43e4756c0922de3": {
          "model_module": "@jupyter-widgets/controls",
          "model_name": "ProgressStyleModel",
          "model_module_version": "1.5.0",
          "state": {
            "_model_module": "@jupyter-widgets/controls",
            "_model_module_version": "1.5.0",
            "_model_name": "ProgressStyleModel",
            "_view_count": null,
            "_view_module": "@jupyter-widgets/base",
            "_view_module_version": "1.2.0",
            "_view_name": "StyleView",
            "bar_color": null,
            "description_width": ""
          }
        },
        "bf28e34ff5dc4ef5a60e5729dcf97392": {
          "model_module": "@jupyter-widgets/base",
          "model_name": "LayoutModel",
          "model_module_version": "1.2.0",
          "state": {
            "_model_module": "@jupyter-widgets/base",
            "_model_module_version": "1.2.0",
            "_model_name": "LayoutModel",
            "_view_count": null,
            "_view_module": "@jupyter-widgets/base",
            "_view_module_version": "1.2.0",
            "_view_name": "LayoutView",
            "align_content": null,
            "align_items": null,
            "align_self": null,
            "border": null,
            "bottom": null,
            "display": null,
            "flex": null,
            "flex_flow": null,
            "grid_area": null,
            "grid_auto_columns": null,
            "grid_auto_flow": null,
            "grid_auto_rows": null,
            "grid_column": null,
            "grid_gap": null,
            "grid_row": null,
            "grid_template_areas": null,
            "grid_template_columns": null,
            "grid_template_rows": null,
            "height": null,
            "justify_content": null,
            "justify_items": null,
            "left": null,
            "margin": null,
            "max_height": null,
            "max_width": null,
            "min_height": null,
            "min_width": null,
            "object_fit": null,
            "object_position": null,
            "order": null,
            "overflow": null,
            "overflow_x": null,
            "overflow_y": null,
            "padding": null,
            "right": null,
            "top": null,
            "visibility": null,
            "width": null
          }
        },
        "2cc9af32480a454e952c5efb42d17103": {
          "model_module": "@jupyter-widgets/controls",
          "model_name": "DescriptionStyleModel",
          "model_module_version": "1.5.0",
          "state": {
            "_model_module": "@jupyter-widgets/controls",
            "_model_module_version": "1.5.0",
            "_model_name": "DescriptionStyleModel",
            "_view_count": null,
            "_view_module": "@jupyter-widgets/base",
            "_view_module_version": "1.2.0",
            "_view_name": "StyleView",
            "description_width": ""
          }
        },
        "388127c2ee4f4ffc8777b59c0b7dd2a0": {
          "model_module": "@jupyter-widgets/controls",
          "model_name": "HBoxModel",
          "model_module_version": "1.5.0",
          "state": {
            "_dom_classes": [],
            "_model_module": "@jupyter-widgets/controls",
            "_model_module_version": "1.5.0",
            "_model_name": "HBoxModel",
            "_view_count": null,
            "_view_module": "@jupyter-widgets/controls",
            "_view_module_version": "1.5.0",
            "_view_name": "HBoxView",
            "box_style": "",
            "children": [
              "IPY_MODEL_bbdc594d8af2455996b6af4312c8f696",
              "IPY_MODEL_38b179ee650a4a4389f2fc0a6493a8e8",
              "IPY_MODEL_419e83df0838435da3440550e9d96012"
            ],
            "layout": "IPY_MODEL_be36cb05263a47fc90ebaf823593702d"
          }
        },
        "bbdc594d8af2455996b6af4312c8f696": {
          "model_module": "@jupyter-widgets/controls",
          "model_name": "HTMLModel",
          "model_module_version": "1.5.0",
          "state": {
            "_dom_classes": [],
            "_model_module": "@jupyter-widgets/controls",
            "_model_module_version": "1.5.0",
            "_model_name": "HTMLModel",
            "_view_count": null,
            "_view_module": "@jupyter-widgets/controls",
            "_view_module_version": "1.5.0",
            "_view_name": "HTMLView",
            "description": "",
            "description_tooltip": null,
            "layout": "IPY_MODEL_efa5cbab5476430b80c1ba9cf4b977af",
            "placeholder": "​",
            "style": "IPY_MODEL_83ae635af9a148bbb5b09cb62524c520",
            "value": "Loading checkpoint shards: 100%"
          }
        },
        "38b179ee650a4a4389f2fc0a6493a8e8": {
          "model_module": "@jupyter-widgets/controls",
          "model_name": "FloatProgressModel",
          "model_module_version": "1.5.0",
          "state": {
            "_dom_classes": [],
            "_model_module": "@jupyter-widgets/controls",
            "_model_module_version": "1.5.0",
            "_model_name": "FloatProgressModel",
            "_view_count": null,
            "_view_module": "@jupyter-widgets/controls",
            "_view_module_version": "1.5.0",
            "_view_name": "ProgressView",
            "bar_style": "success",
            "description": "",
            "description_tooltip": null,
            "layout": "IPY_MODEL_5d803470aa2f4e849e83e9f45e4d1bb0",
            "max": 2,
            "min": 0,
            "orientation": "horizontal",
            "style": "IPY_MODEL_075ffb98a386441bb18713dee5342d85",
            "value": 2
          }
        },
        "419e83df0838435da3440550e9d96012": {
          "model_module": "@jupyter-widgets/controls",
          "model_name": "HTMLModel",
          "model_module_version": "1.5.0",
          "state": {
            "_dom_classes": [],
            "_model_module": "@jupyter-widgets/controls",
            "_model_module_version": "1.5.0",
            "_model_name": "HTMLModel",
            "_view_count": null,
            "_view_module": "@jupyter-widgets/controls",
            "_view_module_version": "1.5.0",
            "_view_name": "HTMLView",
            "description": "",
            "description_tooltip": null,
            "layout": "IPY_MODEL_3022b25c47ec4ef389b873f774bc30f8",
            "placeholder": "​",
            "style": "IPY_MODEL_1c2074f4547e46f9928db8fa9bb9c6d8",
            "value": " 2/2 [00:17&lt;00:00,  7.61s/it]"
          }
        },
        "be36cb05263a47fc90ebaf823593702d": {
          "model_module": "@jupyter-widgets/base",
          "model_name": "LayoutModel",
          "model_module_version": "1.2.0",
          "state": {
            "_model_module": "@jupyter-widgets/base",
            "_model_module_version": "1.2.0",
            "_model_name": "LayoutModel",
            "_view_count": null,
            "_view_module": "@jupyter-widgets/base",
            "_view_module_version": "1.2.0",
            "_view_name": "LayoutView",
            "align_content": null,
            "align_items": null,
            "align_self": null,
            "border": null,
            "bottom": null,
            "display": null,
            "flex": null,
            "flex_flow": null,
            "grid_area": null,
            "grid_auto_columns": null,
            "grid_auto_flow": null,
            "grid_auto_rows": null,
            "grid_column": null,
            "grid_gap": null,
            "grid_row": null,
            "grid_template_areas": null,
            "grid_template_columns": null,
            "grid_template_rows": null,
            "height": null,
            "justify_content": null,
            "justify_items": null,
            "left": null,
            "margin": null,
            "max_height": null,
            "max_width": null,
            "min_height": null,
            "min_width": null,
            "object_fit": null,
            "object_position": null,
            "order": null,
            "overflow": null,
            "overflow_x": null,
            "overflow_y": null,
            "padding": null,
            "right": null,
            "top": null,
            "visibility": null,
            "width": null
          }
        },
        "efa5cbab5476430b80c1ba9cf4b977af": {
          "model_module": "@jupyter-widgets/base",
          "model_name": "LayoutModel",
          "model_module_version": "1.2.0",
          "state": {
            "_model_module": "@jupyter-widgets/base",
            "_model_module_version": "1.2.0",
            "_model_name": "LayoutModel",
            "_view_count": null,
            "_view_module": "@jupyter-widgets/base",
            "_view_module_version": "1.2.0",
            "_view_name": "LayoutView",
            "align_content": null,
            "align_items": null,
            "align_self": null,
            "border": null,
            "bottom": null,
            "display": null,
            "flex": null,
            "flex_flow": null,
            "grid_area": null,
            "grid_auto_columns": null,
            "grid_auto_flow": null,
            "grid_auto_rows": null,
            "grid_column": null,
            "grid_gap": null,
            "grid_row": null,
            "grid_template_areas": null,
            "grid_template_columns": null,
            "grid_template_rows": null,
            "height": null,
            "justify_content": null,
            "justify_items": null,
            "left": null,
            "margin": null,
            "max_height": null,
            "max_width": null,
            "min_height": null,
            "min_width": null,
            "object_fit": null,
            "object_position": null,
            "order": null,
            "overflow": null,
            "overflow_x": null,
            "overflow_y": null,
            "padding": null,
            "right": null,
            "top": null,
            "visibility": null,
            "width": null
          }
        },
        "83ae635af9a148bbb5b09cb62524c520": {
          "model_module": "@jupyter-widgets/controls",
          "model_name": "DescriptionStyleModel",
          "model_module_version": "1.5.0",
          "state": {
            "_model_module": "@jupyter-widgets/controls",
            "_model_module_version": "1.5.0",
            "_model_name": "DescriptionStyleModel",
            "_view_count": null,
            "_view_module": "@jupyter-widgets/base",
            "_view_module_version": "1.2.0",
            "_view_name": "StyleView",
            "description_width": ""
          }
        },
        "5d803470aa2f4e849e83e9f45e4d1bb0": {
          "model_module": "@jupyter-widgets/base",
          "model_name": "LayoutModel",
          "model_module_version": "1.2.0",
          "state": {
            "_model_module": "@jupyter-widgets/base",
            "_model_module_version": "1.2.0",
            "_model_name": "LayoutModel",
            "_view_count": null,
            "_view_module": "@jupyter-widgets/base",
            "_view_module_version": "1.2.0",
            "_view_name": "LayoutView",
            "align_content": null,
            "align_items": null,
            "align_self": null,
            "border": null,
            "bottom": null,
            "display": null,
            "flex": null,
            "flex_flow": null,
            "grid_area": null,
            "grid_auto_columns": null,
            "grid_auto_flow": null,
            "grid_auto_rows": null,
            "grid_column": null,
            "grid_gap": null,
            "grid_row": null,
            "grid_template_areas": null,
            "grid_template_columns": null,
            "grid_template_rows": null,
            "height": null,
            "justify_content": null,
            "justify_items": null,
            "left": null,
            "margin": null,
            "max_height": null,
            "max_width": null,
            "min_height": null,
            "min_width": null,
            "object_fit": null,
            "object_position": null,
            "order": null,
            "overflow": null,
            "overflow_x": null,
            "overflow_y": null,
            "padding": null,
            "right": null,
            "top": null,
            "visibility": null,
            "width": null
          }
        },
        "075ffb98a386441bb18713dee5342d85": {
          "model_module": "@jupyter-widgets/controls",
          "model_name": "ProgressStyleModel",
          "model_module_version": "1.5.0",
          "state": {
            "_model_module": "@jupyter-widgets/controls",
            "_model_module_version": "1.5.0",
            "_model_name": "ProgressStyleModel",
            "_view_count": null,
            "_view_module": "@jupyter-widgets/base",
            "_view_module_version": "1.2.0",
            "_view_name": "StyleView",
            "bar_color": null,
            "description_width": ""
          }
        },
        "3022b25c47ec4ef389b873f774bc30f8": {
          "model_module": "@jupyter-widgets/base",
          "model_name": "LayoutModel",
          "model_module_version": "1.2.0",
          "state": {
            "_model_module": "@jupyter-widgets/base",
            "_model_module_version": "1.2.0",
            "_model_name": "LayoutModel",
            "_view_count": null,
            "_view_module": "@jupyter-widgets/base",
            "_view_module_version": "1.2.0",
            "_view_name": "LayoutView",
            "align_content": null,
            "align_items": null,
            "align_self": null,
            "border": null,
            "bottom": null,
            "display": null,
            "flex": null,
            "flex_flow": null,
            "grid_area": null,
            "grid_auto_columns": null,
            "grid_auto_flow": null,
            "grid_auto_rows": null,
            "grid_column": null,
            "grid_gap": null,
            "grid_row": null,
            "grid_template_areas": null,
            "grid_template_columns": null,
            "grid_template_rows": null,
            "height": null,
            "justify_content": null,
            "justify_items": null,
            "left": null,
            "margin": null,
            "max_height": null,
            "max_width": null,
            "min_height": null,
            "min_width": null,
            "object_fit": null,
            "object_position": null,
            "order": null,
            "overflow": null,
            "overflow_x": null,
            "overflow_y": null,
            "padding": null,
            "right": null,
            "top": null,
            "visibility": null,
            "width": null
          }
        },
        "1c2074f4547e46f9928db8fa9bb9c6d8": {
          "model_module": "@jupyter-widgets/controls",
          "model_name": "DescriptionStyleModel",
          "model_module_version": "1.5.0",
          "state": {
            "_model_module": "@jupyter-widgets/controls",
            "_model_module_version": "1.5.0",
            "_model_name": "DescriptionStyleModel",
            "_view_count": null,
            "_view_module": "@jupyter-widgets/base",
            "_view_module_version": "1.2.0",
            "_view_name": "StyleView",
            "description_width": ""
          }
        }
      }
    },
    "accelerator": "GPU"
  },
  "nbformat": 4,
  "nbformat_minor": 0
}